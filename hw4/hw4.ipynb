{
 "cells": [
  {
   "cell_type": "code",
   "execution_count": 207,
   "id": "956f5b71",
   "metadata": {},
   "outputs": [],
   "source": [
    "import findspark\n",
    "findspark.init()\n",
    "import pyspark as ps\n",
    "import warnings\n",
    "from pyspark.sql import SQLContext\n",
    "from nltk.stem.snowball import SnowballStemmer\n",
    "import pyspark.sql.functions as f\n",
    "from pyspark.sql.functions import trim\n",
    "from pyspark.sql.types import DoubleType,DateType"
   ]
  },
  {
   "cell_type": "code",
   "execution_count": 2,
   "id": "e82253d0",
   "metadata": {},
   "outputs": [
    {
     "name": "stderr",
     "output_type": "stream",
     "text": [
      "C:\\ProgramData\\Anaconda3\\lib\\site-packages\\pyspark\\sql\\context.py:112: FutureWarning: Deprecated in 3.0.0. Use SparkSession.builder.getOrCreate() instead.\n",
      "  warnings.warn(\n"
     ]
    },
    {
     "name": "stdout",
     "output_type": "stream",
     "text": [
      "Just created a SparkContext\n"
     ]
    }
   ],
   "source": [
    "try:\n",
    "    # create SparkContext on all CPUs available: in my case I have 4 CPUs on my laptop\n",
    "    sc = ps.SparkContext('local[4]')\n",
    "    sqlContext = SQLContext(sc)\n",
    "    print(\"Just created a SparkContext\")\n",
    "except ValueError:\n",
    "    warnings.warn(\"SparkContext already exists in this scope\")"
   ]
  },
  {
   "cell_type": "code",
   "execution_count": 181,
   "id": "c0cd2828",
   "metadata": {},
   "outputs": [
    {
     "data": {
      "text/plain": [
       "pyspark.sql.dataframe.DataFrame"
      ]
     },
     "execution_count": 181,
     "metadata": {},
     "output_type": "execute_result"
    }
   ],
   "source": [
    "df = sqlContext.read.format('com.databricks.spark.csv').options(header='true', inferschema='true').load('dataset/train.csv')\n",
    "df_test = sqlContext.read.format('com.databricks.spark.csv').options(header='true', inferschema='true').load('dataset/test.csv')\n",
    "type(df)"
   ]
  },
  {
   "cell_type": "code",
   "execution_count": 182,
   "id": "f0431e8f",
   "metadata": {},
   "outputs": [
    {
     "name": "stdout",
     "output_type": "stream",
     "text": [
      "root\n",
      " |-- id: string (nullable = true)\n",
      " |-- comment_text: string (nullable = true)\n",
      " |-- toxic: string (nullable = true)\n",
      " |-- severe_toxic: string (nullable = true)\n",
      " |-- obscene: string (nullable = true)\n",
      " |-- threat: string (nullable = true)\n",
      " |-- insult: string (nullable = true)\n",
      " |-- identity_hate: string (nullable = true)\n",
      "\n"
     ]
    }
   ],
   "source": [
    "df.printSchema()"
   ]
  },
  {
   "cell_type": "code",
   "execution_count": 183,
   "id": "a0607cbe",
   "metadata": {},
   "outputs": [
    {
     "data": {
      "text/plain": [
       "124633"
      ]
     },
     "execution_count": 183,
     "metadata": {},
     "output_type": "execute_result"
    }
   ],
   "source": [
    "df = df.dropna()\n",
    "# df = df.select(trim(\"id\"), 'comment_text', 'toxic', 'severe_toxic', 'obscene', 'threat', 'insult', 'identity_hate')\n",
    "df = df.withColumn(\"id\", trim(df. id))\n",
    "df.count()"
   ]
  },
  {
   "cell_type": "code",
   "execution_count": 184,
   "id": "17a4e4d5",
   "metadata": {},
   "outputs": [
    {
     "data": {
      "text/plain": [
       "253637"
      ]
     },
     "execution_count": 184,
     "metadata": {},
     "output_type": "execute_result"
    }
   ],
   "source": [
    "df_test = df_test.dropna()\n",
    "df_test = df_test.withColumn(\"id\", trim(df_test. id))\n",
    "df_test.count()"
   ]
  },
  {
   "cell_type": "code",
   "execution_count": 185,
   "id": "e0eeb510",
   "metadata": {},
   "outputs": [
    {
     "name": "stderr",
     "output_type": "stream",
     "text": [
      "C:\\ProgramData\\Anaconda3\\lib\\site-packages\\pyspark\\sql\\dataframe.py:229: FutureWarning: Deprecated in 2.0, use createOrReplaceTempView instead.\n",
      "  warnings.warn(\"Deprecated in 2.0, use createOrReplaceTempView instead.\", FutureWarning)\n"
     ]
    }
   ],
   "source": [
    "df.registerTempTable(\"df\");\n",
    "df = sqlContext.sql(\"SELECT * FROM df WHERE LENGTH(toxic) == 1 AND LENGTH(id) == 16\")"
   ]
  },
  {
   "cell_type": "code",
   "execution_count": 186,
   "id": "9b6a9388",
   "metadata": {},
   "outputs": [],
   "source": [
    "df_test.registerTempTable(\"df_test\");\n",
    "df_new_test = sqlContext.sql(\"SELECT * FROM df_test WHERE LENGTH(id) == 16\")"
   ]
  },
  {
   "cell_type": "code",
   "execution_count": 209,
   "id": "e7b8e9b5",
   "metadata": {},
   "outputs": [],
   "source": [
    "df = df.withColumn(\"toxic\",df.toxic.cast(DoubleType()))\n",
    "df = df.withColumn(\"severe_toxic\",df.severe_toxic.cast(DoubleType()))\n",
    "df = df.withColumn(\"obscene\",df.obscene.cast(DoubleType()))\n",
    "df = df.withColumn(\"threat\",df.threat.cast(DoubleType()))\n",
    "df = df.withColumn(\"insult\",df.insult.cast(DoubleType()))\n",
    "df = df.withColumn(\"identity_hate\",df.identity_hate.cast(DoubleType()))"
   ]
  },
  {
   "cell_type": "code",
   "execution_count": 210,
   "id": "a9c6dfbb",
   "metadata": {},
   "outputs": [
    {
     "name": "stdout",
     "output_type": "stream",
     "text": [
      "root\n",
      " |-- id: string (nullable = true)\n",
      " |-- comment_text: string (nullable = true)\n",
      " |-- toxic: double (nullable = true)\n",
      " |-- severe_toxic: double (nullable = true)\n",
      " |-- obscene: double (nullable = true)\n",
      " |-- threat: double (nullable = true)\n",
      " |-- insult: double (nullable = true)\n",
      " |-- identity_hate: double (nullable = true)\n",
      "\n"
     ]
    }
   ],
   "source": [
    "df.printSchema()"
   ]
  },
  {
   "cell_type": "code",
   "execution_count": 211,
   "id": "fa8a730b",
   "metadata": {},
   "outputs": [
    {
     "name": "stdout",
     "output_type": "stream",
     "text": [
      "+----------------+--------------------+-----+------------+-------+------+------+-------------+\n",
      "|              id|        comment_text|toxic|severe_toxic|obscene|threat|insult|identity_hate|\n",
      "+----------------+--------------------+-----+------------+-------+------+------+-------------+\n",
      "|000103f0d9cfb60f|D'aww! He matches...|  0.0|         0.0|    0.0|   0.0|   0.0|          0.0|\n",
      "|000113f07ec002fd|Hey man, I'm real...|  0.0|         0.0|    0.0|   0.0|   0.0|          0.0|\n",
      "|0001d958c54c6e35|You, sir, are my ...|  0.0|         0.0|    0.0|   0.0|   0.0|          0.0|\n",
      "|0002bcb3da6cb337|COCKSUCKER BEFORE...|  1.0|         1.0|    1.0|   0.0|   1.0|          0.0|\n",
      "|00031b1e95af7921|Your vandalism to...|  0.0|         0.0|    0.0|   0.0|   0.0|          0.0|\n",
      "|00037261f536c51d|Sorry if the word...|  0.0|         0.0|    0.0|   0.0|   0.0|          0.0|\n",
      "|00040093b2687caa|alignment on this...|  0.0|         0.0|    0.0|   0.0|   0.0|          0.0|\n",
      "|00070ef96486d6f9|Oh, and the girl ...|  0.0|         0.0|    0.0|   0.0|   0.0|          0.0|\n",
      "|000897889268bc93|REDIRECT Talk:Voy...|  0.0|         0.0|    0.0|   0.0|   0.0|          0.0|\n",
      "|0009801bd85e5806|The Mitsurugi poi...|  0.0|         0.0|    0.0|   0.0|   0.0|          0.0|\n",
      "|000f35deef84dc4a|There's no need t...|  0.0|         0.0|    0.0|   0.0|   0.0|          0.0|\n",
      "|000ffab30195c5e1|Yes, because the ...|  0.0|         0.0|    0.0|   0.0|   0.0|          0.0|\n",
      "|0011cc71398479c4|How could I post ...|  0.0|         0.0|    0.0|   0.0|   0.0|          0.0|\n",
      "|00128363e367d703|Not sure about a ...|  0.0|         0.0|    0.0|   0.0|   0.0|          0.0|\n",
      "|0015f4aa35ebe9b5|pretty much every...|  0.0|         0.0|    0.0|   0.0|   0.0|          0.0|\n",
      "|00169857adbc989b|Hi Explicit, can ...|  0.0|         0.0|    0.0|   0.0|   0.0|          0.0|\n",
      "|00190820581d90ce|FUCK YOUR FILTHY ...|  1.0|         0.0|    1.0|   0.0|   1.0|          0.0|\n",
      "|001c419c445b5a59|You had a point, ...|  0.0|         0.0|    0.0|   0.0|   0.0|          0.0|\n",
      "|001c557175094f10|In other words, y...|  0.0|         0.0|    0.0|   0.0|   0.0|          0.0|\n",
      "|001dc38a83d420cf|GET FUCKED UP. GE...|  1.0|         0.0|    1.0|   0.0|   0.0|          0.0|\n",
      "+----------------+--------------------+-----+------------+-------+------+------+-------------+\n",
      "only showing top 20 rows\n",
      "\n"
     ]
    }
   ],
   "source": [
    "df.show()"
   ]
  },
  {
   "cell_type": "code",
   "execution_count": 212,
   "id": "ec35ccb7",
   "metadata": {},
   "outputs": [
    {
     "name": "stdout",
     "output_type": "stream",
     "text": [
      "+----------------+--------------------+\n",
      "|              id|        comment_text|\n",
      "+----------------+--------------------+\n",
      "|00001cee341fdb12|Yo bitch Ja Rule ...|\n",
      "|0000247867823ef7|     == From RfC == |\n",
      "|00013b17ad220c46|                   \"|\n",
      "|00017563c3f7919a|:If you have a lo...|\n",
      "|00017695ad8997eb|I don't anonymous...|\n",
      "|0001ea8717f6de06|Thank you for und...|\n",
      "|00024115d4cbde0f|Please do not add...|\n",
      "|000247e83dcc1211|:Dear god this si...|\n",
      "|00025358d4737918|                   \"|\n",
      "|00026d1092fe71cc|== Double Redirec...|\n",
      "|0002eadc3b301559|I think its crap ...|\n",
      "|0002f87b16116a7f|\"\"\"::: Somebody w...|\n",
      "|0003806b11932181|, 25 February 201...|\n",
      "|0003e1cccfd5a40a|                   \"|\n",
      "|00059ace3e3e9a53|                   \"|\n",
      "|000634272d0d44eb|==Current Positio...|\n",
      "|000663aff0fffc80|this other one fr...|\n",
      "|000689dd34e20979|== Reason for ban...|\n",
      "|000834769115370c|:: Wallamoose was...|\n",
      "|000844b52dee5f3f||blocked]] from e...|\n",
      "+----------------+--------------------+\n",
      "only showing top 20 rows\n",
      "\n"
     ]
    }
   ],
   "source": [
    "df_new_test.show()"
   ]
  },
  {
   "cell_type": "code",
   "execution_count": 213,
   "id": "f32d27d5",
   "metadata": {},
   "outputs": [],
   "source": [
    "(train_set, val_set) = df_new.randomSplit([0.98, 0.02], seed = 2000)"
   ]
  },
  {
   "cell_type": "code",
   "execution_count": 214,
   "id": "43ff924c",
   "metadata": {},
   "outputs": [],
   "source": [
    "train_y = train_set.drop('id').drop('comment_text')"
   ]
  },
  {
   "cell_type": "code",
   "execution_count": 215,
   "id": "a84658e1",
   "metadata": {},
   "outputs": [
    {
     "name": "stdout",
     "output_type": "stream",
     "text": [
      "+-----+------------+-------+------+------+-------------+\n",
      "|toxic|severe_toxic|obscene|threat|insult|identity_hate|\n",
      "+-----+------------+-------+------+------+-------------+\n",
      "|    0|           0|      0|     0|     0|            0|\n",
      "|    0|           0|      0|     0|     0|            0|\n",
      "|    0|           0|      0|     0|     0|            0|\n",
      "|    1|           1|      1|     0|     1|            0|\n",
      "|    0|           0|      0|     0|     0|            0|\n",
      "|    0|           0|      0|     0|     0|            0|\n",
      "|    0|           0|      0|     0|     0|            0|\n",
      "|    0|           0|      0|     0|     0|            0|\n",
      "|    0|           0|      0|     0|     0|            0|\n",
      "|    0|           0|      0|     0|     0|            0|\n",
      "|    0|           0|      0|     0|     0|            0|\n",
      "|    0|           0|      0|     0|     0|            0|\n",
      "|    0|           0|      0|     0|     0|            0|\n",
      "|    0|           0|      0|     0|     0|            0|\n",
      "|    0|           0|      0|     0|     0|            0|\n",
      "|    0|           0|      0|     0|     0|            0|\n",
      "|    1|           0|      1|     0|     1|            0|\n",
      "|    0|           0|      0|     0|     0|            0|\n",
      "|    0|           0|      0|     0|     0|            0|\n",
      "|    1|           0|      1|     0|     0|            0|\n",
      "+-----+------------+-------+------+------+-------------+\n",
      "only showing top 20 rows\n",
      "\n"
     ]
    }
   ],
   "source": [
    "train_y.show()"
   ]
  },
  {
   "cell_type": "code",
   "execution_count": 216,
   "id": "64e83f02",
   "metadata": {},
   "outputs": [],
   "source": [
    "train_x = train_set.select('id','comment_text')"
   ]
  },
  {
   "cell_type": "code",
   "execution_count": 217,
   "id": "f6733043",
   "metadata": {},
   "outputs": [
    {
     "name": "stdout",
     "output_type": "stream",
     "text": [
      "+----------------+--------------------+\n",
      "|              id|        comment_text|\n",
      "+----------------+--------------------+\n",
      "|000103f0d9cfb60f|D'aww! He matches...|\n",
      "|000113f07ec002fd|Hey man, I'm real...|\n",
      "|0001d958c54c6e35|You, sir, are my ...|\n",
      "|0002bcb3da6cb337|COCKSUCKER BEFORE...|\n",
      "|00031b1e95af7921|Your vandalism to...|\n",
      "|00037261f536c51d|Sorry if the word...|\n",
      "|00040093b2687caa|alignment on this...|\n",
      "|00070ef96486d6f9|Oh, and the girl ...|\n",
      "|000897889268bc93|REDIRECT Talk:Voy...|\n",
      "|0009801bd85e5806|The Mitsurugi poi...|\n",
      "|000f35deef84dc4a|There's no need t...|\n",
      "|000ffab30195c5e1|Yes, because the ...|\n",
      "|0011cc71398479c4|How could I post ...|\n",
      "|00128363e367d703|Not sure about a ...|\n",
      "|0015f4aa35ebe9b5|pretty much every...|\n",
      "|00169857adbc989b|Hi Explicit, can ...|\n",
      "|00190820581d90ce|FUCK YOUR FILTHY ...|\n",
      "|001c419c445b5a59|You had a point, ...|\n",
      "|001c557175094f10|In other words, y...|\n",
      "|001dc38a83d420cf|GET FUCKED UP. GE...|\n",
      "+----------------+--------------------+\n",
      "only showing top 20 rows\n",
      "\n"
     ]
    }
   ],
   "source": [
    "train_x.show()"
   ]
  },
  {
   "cell_type": "code",
   "execution_count": 218,
   "id": "c4d45331",
   "metadata": {},
   "outputs": [],
   "source": [
    "val_y = val_set.drop('id').drop('comment_text')"
   ]
  },
  {
   "cell_type": "code",
   "execution_count": 219,
   "id": "1aba842c",
   "metadata": {},
   "outputs": [],
   "source": [
    "val_x = val_set.select('comment_text')"
   ]
  },
  {
   "cell_type": "code",
   "execution_count": 220,
   "id": "331b1121",
   "metadata": {},
   "outputs": [],
   "source": [
    "test_x = df_new_test.select('id','comment_text')"
   ]
  },
  {
   "cell_type": "code",
   "execution_count": 221,
   "id": "dc2e180d",
   "metadata": {},
   "outputs": [
    {
     "name": "stdout",
     "output_type": "stream",
     "text": [
      "+----------------+--------------------+-----+------------+-------+------+------+-------------+--------------------+--------------------+--------------------+\n",
      "|              id|        comment_text|toxic|severe_toxic|obscene|threat|insult|identity_hate|               words|                  tf|            features|\n",
      "+----------------+--------------------+-----+------------+-------+------+------+-------------+--------------------+--------------------+--------------------+\n",
      "|000103f0d9cfb60f|D'aww! He matches...|  0.0|         0.0|    0.0|   0.0|   0.0|          0.0|[d'aww!, he, matc...|(65536,[2195,4714...|(65536,[2195,4714...|\n",
      "|000113f07ec002fd|Hey man, I'm real...|  0.0|         0.0|    0.0|   0.0|   0.0|          0.0|[hey, man,, i'm, ...|(65536,[6589,1001...|(65536,[6589,1001...|\n",
      "|0001d958c54c6e35|You, sir, are my ...|  0.0|         0.0|    0.0|   0.0|   0.0|          0.0|[you,, sir,, are,...|(65536,[389,2762,...|(65536,[389,2762,...|\n",
      "|0002bcb3da6cb337|COCKSUCKER BEFORE...|  1.0|         1.0|    1.0|   0.0|   1.0|          0.0|[cocksucker, befo...|(65536,[1880,1835...|(65536,[1880,1835...|\n",
      "|00031b1e95af7921|Your vandalism to...|  0.0|         0.0|    0.0|   0.0|   0.0|          0.0|[your, vandalism,...|(65536,[1714,7221...|(65536,[1714,7221...|\n",
      "|00037261f536c51d|Sorry if the word...|  0.0|         0.0|    0.0|   0.0|   0.0|          0.0|[sorry, if, the, ...|(65536,[1177,1880...|(65536,[1177,1880...|\n",
      "|00040093b2687caa|alignment on this...|  0.0|         0.0|    0.0|   0.0|   0.0|          0.0|[alignment, on, t...|(65536,[1880,2067...|(65536,[1880,2067...|\n",
      "|00070ef96486d6f9|Oh, and the girl ...|  0.0|         0.0|    0.0|   0.0|   0.0|          0.0|[oh,, and, the, g...|(65536,[5713,8912...|(65536,[5713,8912...|\n",
      "|000897889268bc93|REDIRECT Talk:Voy...|  0.0|         0.0|    0.0|   0.0|   0.0|          0.0|[redirect, talk:v...|(65536,[503,9693,...|(65536,[503,9693,...|\n",
      "|0009801bd85e5806|The Mitsurugi poi...|  0.0|         0.0|    0.0|   0.0|   0.0|          0.0|[the, mitsurugi, ...|(65536,[166,1880,...|(65536,[166,1880,...|\n",
      "|000f35deef84dc4a|There's no need t...|  0.0|         0.0|    0.0|   0.0|   0.0|          0.0|[there's, no, nee...|(65536,[1668,1954...|(65536,[1668,1954...|\n",
      "|000ffab30195c5e1|Yes, because the ...|  0.0|         0.0|    0.0|   0.0|   0.0|          0.0|[yes,, because, t...|(65536,[1981,3311...|(65536,[1981,3311...|\n",
      "|0011cc71398479c4|How could I post ...|  0.0|         0.0|    0.0|   0.0|   0.0|          0.0|[how, could, i, p...|(65536,[835,4529,...|(65536,[835,4529,...|\n",
      "|00128363e367d703|Not sure about a ...|  0.0|         0.0|    0.0|   0.0|   0.0|          0.0|[not, sure, about...|(65536,[3053,1603...|(65536,[3053,1603...|\n",
      "|0015f4aa35ebe9b5|pretty much every...|  0.0|         0.0|    0.0|   0.0|   0.0|          0.0|[pretty, much, ev...|(65536,[1903,1981...|(65536,[1903,1981...|\n",
      "|00169857adbc989b|Hi Explicit, can ...|  0.0|         0.0|    0.0|   0.0|   0.0|          0.0|[hi, explicit,, c...|(65536,[1714,1880...|(65536,[1714,1880...|\n",
      "|00190820581d90ce|FUCK YOUR FILTHY ...|  1.0|         0.0|    1.0|   0.0|   1.0|          0.0|[fuck, your, filt...|(65536,[23262,303...|(65536,[23262,303...|\n",
      "|001c419c445b5a59|You had a point, ...|  0.0|         0.0|    0.0|   0.0|   0.0|          0.0|[you, had, a, poi...|(65536,[16666,183...|(65536,[16666,183...|\n",
      "|001c557175094f10|In other words, y...|  0.0|         0.0|    0.0|   0.0|   0.0|          0.0|[in, other, words...|(65536,[1903,5923...|(65536,[1903,5923...|\n",
      "|001dc38a83d420cf|GET FUCKED UP. GE...|  1.0|         0.0|    1.0|   0.0|   0.0|          0.0|[get, fucked, up....|(65536,[1540,4053...|(65536,[1540,4053...|\n",
      "|001e89eb3f0b0915|Are you threateni...|  0.0|         0.0|    0.0|   0.0|   0.0|          0.0|[are, you, threat...|(65536,[645,4616,...|(65536,[645,4616,...|\n",
      "|001ee16c46a99262|Thanks! Undeletio...|  0.0|         0.0|    0.0|   0.0|   0.0|          0.0|[thanks!, undelet...|(65536,[1880,1903...|(65536,[1880,1903...|\n",
      "|001ffdcc3e7fb49c|Awesome! Then I'l...|  0.0|         0.0|    0.0|   0.0|   0.0|          0.0|[awesome!, then, ...|(65536,[1953,2578...|(65536,[1953,2578...|\n",
      "|0020e7119b96eeeb|Stupid peace of s...|  1.0|         1.0|    1.0|   0.0|   1.0|          0.0|[stupid, peace, o...|(65536,[1696,5660...|(65536,[1696,5660...|\n",
      "|0020fd96ed3b8c8b|=Tony Sidaway is ...|  1.0|         0.0|    1.0|   0.0|   1.0|          0.0|[=tony, sidaway, ...|(65536,[1968,5209...|(65536,[1968,5209...|\n",
      "|00229d44f41f3acb|Locking this page...|  0.0|         0.0|    0.0|   0.0|   0.0|          0.0|[locking, this, p...|(65536,[6783,1165...|(65536,[6783,1165...|\n",
      "|0022cf8467ebc9fd|A Bisexual, like ...|  0.0|         0.0|    0.0|   0.0|   0.0|          0.0|[a, bisexual,, li...|(65536,[1714,1903...|(65536,[1714,1903...|\n",
      "|0023daf96917e0d0|REDIRECT Talk:Fra...|  0.0|         0.0|    0.0|   0.0|   0.0|          0.0|[redirect, talk:f...|(65536,[503,38705...|(65536,[503,38705...|\n",
      "|0028d62e8a5629aa|All of my edits a...|  1.0|         0.0|    1.0|   0.0|   1.0|          0.0|[all, of, my, edi...|(65536,[835,1696,...|(65536,[835,1696,...|\n",
      "|002918ae66cc4bc2|I went there arou...|  0.0|         0.0|    0.0|   0.0|   0.0|          0.0|[i, went, there, ...|(65536,[1880,5266...|(65536,[1880,5266...|\n",
      "|0029541a38c523a0|There must be som...|  0.0|         0.0|    0.0|   0.0|   0.0|          0.0|[there, must, be,...|(65536,[2141,2973...|(65536,[2141,2973...|\n",
      "|002b90cc8a94c76b|They are NOT orig...|  0.0|         0.0|    0.0|   0.0|   0.0|          0.0|[they, are, not, ...|(65536,[2702,2046...|(65536,[2702,2046...|\n",
      "|002e2d3db2b597c4|Take your belated...|  0.0|         0.0|    0.0|   0.0|   0.0|          0.0|[take, your, bela...|(65536,[3191,5923...|(65536,[3191,5923...|\n",
      "|002f0e29c60807b1|That's what I'm l...|  0.0|         0.0|    0.0|   0.0|   0.0|          0.0|[that's, what, i'...|(65536,[989,1880,...|(65536,[989,1880,...|\n",
      "|0030614cfd96d9d1|In the same direc...|  0.0|         0.0|    0.0|   0.0|   0.0|          0.0|[in, the, same, d...|(65536,[2564,4167...|(65536,[2564,4167...|\n",
      "|0035d638ba684122|Can you prove it ...|  0.0|         0.0|    0.0|   0.0|   0.0|          0.0|[can, you, prove,...|(65536,[2035,2306...|(65536,[2035,2306...|\n",
      "|0036621e4c7e10b5|Would you both sh...|  1.0|         0.0|    0.0|   0.0|   1.0|          0.0|[would, you, both...|(65536,[1696,3091...|(65536,[1696,3091...|\n",
      "|0036e50f42d0b679|Oh, it's me vanda...|  0.0|         0.0|    0.0|   0.0|   0.0|          0.0|[oh,, it's, me, v...|(65536,[8538,1546...|(65536,[8538,1546...|\n",
      "|0037fe4f8f5cdcfb|Thanks reading th...|  0.0|         0.0|    0.0|   0.0|   0.0|          0.0|[thanks, reading,...|(65536,[16666,316...|(65536,[16666,316...|\n",
      "|00397b264deba890|How can one defam...|  0.0|         0.0|    0.0|   0.0|   0.0|          0.0|[how, can, one, d...|(65536,[835,3085,...|(65536,[835,3085,...|\n",
      "|003d77a20601cec1|Thanks much - how...|  0.0|         0.0|    0.0|   0.0|   0.0|          0.0|[thanks, much, -,...|(65536,[2118,8225...|(65536,[2118,8225...|\n",
      "|003dbd1b9b354c1f|You can do all yo...|  0.0|         0.0|    0.0|   0.0|   0.0|          0.0|[you, can, do, al...|(65536,[4714,1001...|(65536,[4714,1001...|\n",
      "|003f698d06c9b180|However, the Moon...|  0.0|         0.0|    0.0|   0.0|   0.0|          0.0|[however,, the, m...|(65536,[3085,1223...|(65536,[3085,1223...|\n",
      "|0040017ef6277334|i can't believe n...|  0.0|         0.0|    0.0|   0.0|   0.0|          0.0|[i, can't, believ...|(65536,[1206,1714...|(65536,[1206,1714...|\n",
      "|00472b8e2d38d1ea|A pair of jew-hat...|  1.0|         0.0|    1.0|   0.0|   1.0|          1.0|[a, pair, of, jew...|(65536,[3021,2247...|(65536,[3021,2247...|\n",
      "|00480b6e1f19601b|I tend to think t...|  0.0|         0.0|    0.0|   0.0|   0.0|          0.0|[i, tend, to, thi...|(65536,[749,989,1...|(65536,[749,989,1...|\n",
      "|004a789c03eda830|Including some ap...|  0.0|         0.0|    0.0|   0.0|   0.0|          0.0|[including, some,...|(65536,[19208,224...|(65536,[19208,224...|\n",
      "|004b103182fb1eab|Thanks, Josette. ...|  0.0|         0.0|    0.0|   0.0|   0.0|          0.0|[thanks,, josette...|(65536,[1177,1981...|(65536,[1177,1981...|\n",
      "|004b97c80705a548|Also I think Vege...|  0.0|         0.0|    0.0|   0.0|   0.0|          0.0|[also, i, think, ...|(65536,[4592,6270...|(65536,[4592,6270...|\n",
      "|004f981460421bdf|Hi, I am new to w...|  0.0|         0.0|    0.0|   0.0|   0.0|          0.0|[hi,, i, am, new,...|(65536,[1750,1880...|(65536,[1750,1880...|\n",
      "|0050cb3bc226f94e|heh, it's a bit o...|  0.0|         0.0|    0.0|   0.0|   0.0|          0.0|[heh,, it's, a, b...|(65536,[6693,6731...|(65536,[6693,6731...|\n",
      "|00537730daf8c5f1|Sorry about that....|  0.0|         0.0|    0.0|   0.0|   0.0|          0.0|[sorry, about, th...|(65536,[1981,3191...|(65536,[1981,3191...|\n",
      "|0053bab79133c0fc|Well, it still ne...|  0.0|         0.0|    0.0|   0.0|   0.0|          0.0|[well,, it, still...|(65536,[531,3085,...|(65536,[531,3085,...|\n",
      "|00548d029d7f4783|A redirect somewh...|  0.0|         0.0|    0.0|   0.0|   0.0|          0.0|[a, redirect, som...|(65536,[503,7221,...|(65536,[503,7221,...|\n",
      "|00562e78e0b34102|Yeah, let's merge...|  0.0|         0.0|    0.0|   0.0|   0.0|          0.0|[yeah,, let's, me...|(65536,[3053,6918...|(65536,[3053,6918...|\n",
      "|00582dcd527c8d7d|LMAO, what a n00b...|  0.0|         0.0|    0.0|   0.0|   0.0|          0.0|[lmao,, what, a, ...|(65536,[672,16030...|(65536,[672,16030...|\n",
      "|005eb6d31a8d821e|From what I've se...|  0.0|         0.0|    0.0|   0.0|   0.0|          0.0|[from, what, i've...|(65536,[1981,3530...|(65536,[1981,3530...|\n",
      "|005fb1983ff191e9|The Alpha version...|  0.0|         0.0|    0.0|   0.0|   0.0|          0.0|[the, alpha, vers...|(65536,[10952,130...|(65536,[10952,130...|\n",
      "|0060ef190ee10720|. Between the unb...|  0.0|         0.0|    0.0|   0.0|   0.0|          0.0|[., between, the,...|(65536,[15910,215...|(65536,[15910,215...|\n",
      "|0061b075244dd234|Once again, I res...|  0.0|         0.0|    0.0|   0.0|   0.0|          0.0|[once, again,, i,...|(65536,[1880,1903...|(65536,[1880,1903...|\n",
      "|006493e4e9c89cab|That is quick if ...|  0.0|         0.0|    0.0|   0.0|   0.0|          0.0|[that, is, quick,...|(65536,[205,1546,...|(65536,[205,1546,...|\n",
      "|006774d59329b7bd|And, of course, P...|  0.0|         0.0|    0.0|   0.0|   0.0|          0.0|[and,, of, course...|(65536,[231,1602,...|(65536,[231,1602,...|\n",
      "|00686325bcc16080|You should be fir...|  1.0|         0.0|    0.0|   0.0|   1.0|          0.0|[you, should, be,...|(65536,[2973,3320...|(65536,[2973,3320...|\n",
      "|0069bf2d6881ad29|It looks to me li...|  0.0|         0.0|    0.0|   0.0|   0.0|          0.0|[it, looks, to, m...|(65536,[1603,3085...|(65536,[1603,3085...|\n",
      "|006a263a08b593c5|Note that the San...|  0.0|         0.0|    0.0|   0.0|   0.0|          0.0|[note, that, the,...|(65536,[5462,1205...|(65536,[5462,1205...|\n",
      "|006a4cdda4960588|friesers opinion ...|  0.0|         0.0|    0.0|   0.0|   0.0|          0.0|[friesers, opinio...|(65536,[388,1004,...|(65536,[388,1004,...|\n",
      "|006a4e493b506d1e|Oh, I didn't know...|  0.0|         0.0|    0.0|   0.0|   0.0|          0.0|[oh,, i, didn't, ...|(65536,[8225,1903...|(65536,[8225,1903...|\n",
      "|006b888560bcdfcd|\"\"\"know the sex o...|  0.0|         0.0|    0.0|   0.0|   0.0|          0.0|[\"\"\"know, the, se...|(65536,[15187,224...|(65536,[15187,224...|\n",
      "|006b94add72ed61c|I think that your...|  1.0|         0.0|    1.0|   1.0|   1.0|          1.0|[i, think, that, ...|(65536,[2308,7173...|(65536,[2308,7173...|\n",
      "|006ca45465868e64|86.29.244.57|86.2...|  0.0|         0.0|    0.0|   0.0|   0.0|          0.0|[86.29.244.57|86....|(65536,[3432,2565...|(65536,[3432,2565...|\n",
      "|006cf8c9f4cc4d57|Sorry, the link y...|  0.0|         0.0|    0.0|   0.0|   0.0|          0.0|[sorry,, the, lin...|(65536,[2570,5375...|(65536,[2570,5375...|\n",
      "|006eaaaca322e12d|\"\"\") (ETA: John D...|  0.0|         0.0|    0.0|   0.0|   0.0|          0.0|[\"\"\"), (eta:, joh...|(65536,[19271,267...|(65536,[19271,267...|\n",
      "|007094f2f9efe035|Correct, Dead is ...|  0.0|         0.0|    0.0|   0.0|   0.0|          0.0|[correct,, dead, ...|(65536,[3536,7007...|(65536,[3536,7007...|\n",
      "|0074b307c2d9a100|I just noticed th...|  0.0|         0.0|    0.0|   0.0|   0.0|          0.0|[i, just, noticed...|(65536,[835,1880,...|(65536,[835,1880,...|\n",
      "|007bbfa4da2bc32d|Oh, also wouldn't...|  0.0|         0.0|    0.0|   0.0|   0.0|          0.0|[oh,, also, would...|(65536,[1109,1880...|(65536,[1109,1880...|\n",
      "|007e1e47cd0e2fec|Homosexuals are i...|  0.0|         0.0|    0.0|   0.0|   0.0|          0.0|[homosexuals, are...|(65536,[640,997,1...|(65536,[640,997,1...|\n",
      "|008198c5a9d85a8e|I did research th...|  0.0|         0.0|    0.0|   0.0|   0.0|          0.0|[i, did, research...|(65536,[3053,6076...|(65536,[3053,6076...|\n",
      "|0082b4b42b3f07a1|I've abused NOTHI...|  0.0|         0.0|    0.0|   0.0|   0.0|          0.0|[i've, abused, no...|(65536,[388,3320,...|(65536,[388,3320,...|\n",
      "|0082b5a7b4a67da2|Give me a permana...|  1.0|         0.0|    0.0|   0.0|   0.0|          0.0|[give, me, a, per...|(65536,[389,568,1...|(65536,[389,568,1...|\n",
      "|0083790fbfe5014d|I asked him a que...|  0.0|         0.0|    0.0|   0.0|   0.0|          0.0|[i, asked, him, a...|(65536,[3534,6783...|(65536,[3534,6783...|\n",
      "|0083ead5c8afc356|says no consensus...|  0.0|         0.0|    0.0|   0.0|   0.0|          0.0|[says, no, consen...|(65536,[1981,7194...|(65536,[1981,7194...|\n",
      "|0084d905b6f19f2b|I FIND IT DIFFICU...|  0.0|         0.0|    0.0|   0.0|   0.0|          0.0|[i, find, it, dif...|(65536,[1996,1449...|(65536,[1996,1449...|\n",
      "|0086998b34865f93|Fuck you, block m...|  1.0|         0.0|    1.0|   0.0|   1.0|          0.0|[fuck, you,, bloc...|(65536,[2808,1835...|(65536,[2808,1835...|\n",
      "|0087c131ccffe160|Attacking another...|  0.0|         0.0|    0.0|   0.0|   0.0|          0.0|[attacking, anoth...|(65536,[835,1109,...|(65536,[835,1109,...|\n",
      "|008a856f6691e051|Hence why I remov...|  0.0|         0.0|    0.0|   0.0|   0.0|          0.0|[hence, why, i, r...|(65536,[1981,3085...|(65536,[1981,3085...|\n",
      "|008d3702b1ad0465|And check this ou...|  0.0|         0.0|    0.0|   0.0|   0.0|          0.0|[and, check, this...|(65536,[6397,7004...|(65536,[6397,7004...|\n",
      "|008faa76dd3eb890|i only deleted pe...|  0.0|         0.0|    0.0|   0.0|   0.0|          0.0|[i, only, deleted...|(65536,[19036,358...|(65536,[19036,358...|\n",
      "|008fdd0ca51cdadc|Please, please, c...|  0.0|         0.0|    0.0|   0.0|   0.0|          0.0|[please,, please,...|(65536,[16030,183...|(65536,[16030,183...|\n",
      "|00908f946bd2fd05|I'm moving this t...|  0.0|         0.0|    0.0|   0.0|   0.0|          0.0|[i'm, moving, thi...|(65536,[6589,1001...|(65536,[6589,1001...|\n",
      "|0091798f05a311af|http://www.users....|  0.0|         0.0|    0.0|   0.0|   0.0|          0.0|[http://www.users...|(65536,[3980,6335...|(65536,[3980,6335...|\n",
      "|00958dec64c33224|Please stop addin...|  0.0|         0.0|    0.0|   0.0|   0.0|          0.0|[please, stop, ad...|(65536,[5660,6783...|(65536,[5660,6783...|\n",
      "|00961bcaadd6a278|Well I will use m...|  0.0|         0.0|    0.0|   0.0|   0.0|          0.0|[well, i, will, u...|(65536,[1706,1880...|(65536,[1706,1880...|\n",
      "|0097dd5c29bf7a15|u r a tw@ fuck of...|  1.0|         0.0|    1.0|   0.0|   1.0|          1.0|[u, r, a, tw@, fu...|(65536,[4790,9056...|(65536,[4790,9056...|\n",
      "|009820fe28cd24dc|Its also expressl...|  0.0|         0.0|    0.0|   0.0|   0.0|          0.0|[its, also, expre...|(65536,[1714,1981...|(65536,[1714,1981...|\n",
      "|009a3333aa4ac011||listas = Sabina ...|  0.0|         0.0|    0.0|   0.0|   0.0|          0.0|[|listas, =, sabi...|(65536,[9180,2247...|(65536,[9180,2247...|\n",
      "|009b3b15f1ada72f|His name was Troy...|  0.0|         0.0|    0.0|   0.0|   0.0|          0.0|[his, name, was, ...|(65536,[6504,7651...|(65536,[6504,7651...|\n",
      "|009cb63b1bd5daf9|It is interesting...|  0.0|         0.0|    0.0|   0.0|   0.0|          0.0|[it, is, interest...|(65536,[11104,157...|(65536,[11104,157...|\n",
      "|009ce66bcd5de288|Thanks for fixing...|  0.0|         0.0|    0.0|   0.0|   0.0|          0.0|[thanks, for, fix...|(65536,[12130,348...|(65536,[12130,348...|\n",
      "|009d0fe5e7ee720a|, and I would lik...|  0.0|         0.0|    0.0|   0.0|   0.0|          0.0|[,, and, i, would...|(65536,[1880,6783...|(65536,[1880,6783...|\n",
      "|009df88828f523c4|, and man has als...|  0.0|         0.0|    0.0|   0.0|   0.0|          0.0|[,, and, man, has...|(65536,[1714,2306...|(65536,[1714,2306...|\n",
      "+----------------+--------------------+-----+------------+-------+------+------+-------------+--------------------+--------------------+--------------------+\n",
      "only showing top 100 rows\n",
      "\n"
     ]
    }
   ],
   "source": [
    "from pyspark.ml.feature import HashingTF, IDF, Tokenizer\n",
    "from pyspark.ml.feature import StringIndexer\n",
    "from pyspark.ml import Pipeline\n",
    "\n",
    "tokenizer = Tokenizer(inputCol=\"comment_text\", outputCol=\"words\")\n",
    "hashtf = HashingTF(numFeatures=2**16, inputCol=\"words\", outputCol='tf')\n",
    "idf = IDF(inputCol='tf', outputCol=\"features\", minDocFreq=5) #minDocFreq: remove sparse terms\n",
    "# label_stringIdx = StringIndexer(inputCol = \"target\", outputCol = \"label\")\n",
    "pipeline = Pipeline(stages=[tokenizer, hashtf, idf])\n",
    "\n",
    "pipelineFit_X = pipeline.fit(df)\n",
    "pipelineFit_VAL = pipeline.fit(val_x)\n",
    "pipelineFit_X_test = pipeline.fit(test_x)\n",
    "train_X = pipelineFit_X.transform(df)\n",
    "val_X = pipelineFit_VAL.transform(val_x)\n",
    "test_X = pipelineFit_X.transform(test_x)\n",
    "train_X.show(100)"
   ]
  },
  {
   "cell_type": "code",
   "execution_count": 224,
   "id": "dcb771d4",
   "metadata": {},
   "outputs": [
    {
     "name": "stdout",
     "output_type": "stream",
     "text": [
      "root\n",
      " |-- id: string (nullable = true)\n",
      " |-- comment_text: string (nullable = true)\n",
      " |-- toxic: double (nullable = true)\n",
      " |-- severe_toxic: double (nullable = true)\n",
      " |-- obscene: double (nullable = true)\n",
      " |-- threat: double (nullable = true)\n",
      " |-- insult: double (nullable = true)\n",
      " |-- identity_hate: double (nullable = true)\n",
      " |-- words: array (nullable = true)\n",
      " |    |-- element: string (containsNull = true)\n",
      " |-- tf: vector (nullable = true)\n",
      " |-- features: vector (nullable = true)\n",
      "\n"
     ]
    }
   ],
   "source": [
    "train_X.printSchema()"
   ]
  },
  {
   "cell_type": "code",
   "execution_count": 177,
   "id": "ace5dd9b",
   "metadata": {},
   "outputs": [
    {
     "name": "stdout",
     "output_type": "stream",
     "text": [
      "+--------------------+--------------------+--------------------+--------------------+\n",
      "|        comment_text|               words|                  tf|            features|\n",
      "+--------------------+--------------------+--------------------+--------------------+\n",
      "|For your informat...|[for, your, infor...|(65536,[649,1009,...|(65536,[649,1009,...|\n",
      "|Same for File:Sea...|[same, for, file:...|(65536,[11104,233...|(65536,[11104,233...|\n",
      "|the episode list ...|[the, episode, li...|(65536,[9389,1437...|(65536,[9389,1437...|\n",
      "|The real personal...|[the, real, perso...|(65536,[3085,1863...|(65536,[3085,1863...|\n",
      "|Vince - FYI 'Yell...|[vince, -, fyi, '...|(65536,[568,711,1...|(65536,[568,711,1...|\n",
      "|Hahaha, you dont ...|[hahaha,, you, do...|(65536,[1903,2026...|(65536,[1903,2026...|\n",
      "|Helpme is not to ...|[helpme, is, not,...|(65536,[438,989,6...|(65536,[438,989,6...|\n",
      "|I'm not going to ...|[i'm, not, going,...|(65536,[7791,1001...|(65536,[7791,1001...|\n",
      "|I know what you'r...|[i, know, what, y...|(65536,[835,6263,...|(65536,[835,6263,...|\n",
      "|Thanks again for ...|[thanks, again, f...|(65536,[12179,233...|(65536,[12179,233...|\n",
      "|Fuck you both, I'...|[fuck, you, both,...|(65536,[9532,1001...|(65536,[9532,1001...|\n",
      "|The goal.com arti...|[the, goal.com, a...|(65536,[372,1714,...|(65536,[372,1714,...|\n",
      "|Bla bla bla....su...|[bla, bla, bla......|(65536,[2093,1314...|(65536,[2093,1314...|\n",
      "|modifying the con...|[modifying, the, ...|(65536,[10304,113...|(65536,[10304,113...|\n",
      "|Some that we know...|[some, that, we, ...|(65536,[1981,3969...|(65536,[1981,3969...|\n",
      "|We own the projec...|[we, own, the, pr...|(65536,[835,7173,...|(65536,[835,7173,...|\n",
      "|How should we pro...|[how, should, we,...|(65536,[835,1880,...|(65536,[835,1880,...|\n",
      "|There is some con...|[there, is, some,...|(65536,[813,1283,...|(65536,[813,1283,...|\n",
      "|Google search pre...|[google, search, ...|(65536,[401,6679,...|(65536,[401,6679,...|\n",
      "|MOTHERFUCKER, DON...|[motherfucker,, d...|(65536,[14135,217...|(65536,[14135,217...|\n",
      "+--------------------+--------------------+--------------------+--------------------+\n",
      "only showing top 20 rows\n",
      "\n"
     ]
    }
   ],
   "source": [
    "val_X.show()"
   ]
  },
  {
   "cell_type": "code",
   "execution_count": 192,
   "id": "910596fa",
   "metadata": {},
   "outputs": [],
   "source": [
    "train_toxic = train_X.select('features','toxic')"
   ]
  },
  {
   "cell_type": "code",
   "execution_count": 205,
   "id": "b86162ec",
   "metadata": {},
   "outputs": [
    {
     "name": "stdout",
     "output_type": "stream",
     "text": [
      "+----------------+--------------------+-----+------------+-------+------+------+-------------+--------------------+--------------------+--------------------+\n",
      "|              id|        comment_text|toxic|severe_toxic|obscene|threat|insult|identity_hate|               words|                  tf|            features|\n",
      "+----------------+--------------------+-----+------------+-------+------+------+-------------+--------------------+--------------------+--------------------+\n",
      "|000103f0d9cfb60f|D'aww! He matches...|    0|           0|      0|     0|     0|            0|[d'aww!, he, matc...|(65536,[2195,4714...|(65536,[2195,4714...|\n",
      "|000113f07ec002fd|Hey man, I'm real...|    0|           0|      0|     0|     0|            0|[hey, man,, i'm, ...|(65536,[6589,1001...|(65536,[6589,1001...|\n",
      "|0001d958c54c6e35|You, sir, are my ...|    0|           0|      0|     0|     0|            0|[you,, sir,, are,...|(65536,[389,2762,...|(65536,[389,2762,...|\n",
      "|0002bcb3da6cb337|COCKSUCKER BEFORE...|    1|           1|      1|     0|     1|            0|[cocksucker, befo...|(65536,[1880,1835...|(65536,[1880,1835...|\n",
      "|00031b1e95af7921|Your vandalism to...|    0|           0|      0|     0|     0|            0|[your, vandalism,...|(65536,[1714,7221...|(65536,[1714,7221...|\n",
      "|00037261f536c51d|Sorry if the word...|    0|           0|      0|     0|     0|            0|[sorry, if, the, ...|(65536,[1177,1880...|(65536,[1177,1880...|\n",
      "|00040093b2687caa|alignment on this...|    0|           0|      0|     0|     0|            0|[alignment, on, t...|(65536,[1880,2067...|(65536,[1880,2067...|\n",
      "|00070ef96486d6f9|Oh, and the girl ...|    0|           0|      0|     0|     0|            0|[oh,, and, the, g...|(65536,[5713,8912...|(65536,[5713,8912...|\n",
      "|000897889268bc93|REDIRECT Talk:Voy...|    0|           0|      0|     0|     0|            0|[redirect, talk:v...|(65536,[503,9693,...|(65536,[503,9693,...|\n",
      "|0009801bd85e5806|The Mitsurugi poi...|    0|           0|      0|     0|     0|            0|[the, mitsurugi, ...|(65536,[166,1880,...|(65536,[166,1880,...|\n",
      "|000f35deef84dc4a|There's no need t...|    0|           0|      0|     0|     0|            0|[there's, no, nee...|(65536,[1668,1954...|(65536,[1668,1954...|\n",
      "|000ffab30195c5e1|Yes, because the ...|    0|           0|      0|     0|     0|            0|[yes,, because, t...|(65536,[1981,3311...|(65536,[1981,3311...|\n",
      "|0011cc71398479c4|How could I post ...|    0|           0|      0|     0|     0|            0|[how, could, i, p...|(65536,[835,4529,...|(65536,[835,4529,...|\n",
      "|00128363e367d703|Not sure about a ...|    0|           0|      0|     0|     0|            0|[not, sure, about...|(65536,[3053,1603...|(65536,[3053,1603...|\n",
      "|0015f4aa35ebe9b5|pretty much every...|    0|           0|      0|     0|     0|            0|[pretty, much, ev...|(65536,[1903,1981...|(65536,[1903,1981...|\n",
      "|00169857adbc989b|Hi Explicit, can ...|    0|           0|      0|     0|     0|            0|[hi, explicit,, c...|(65536,[1714,1880...|(65536,[1714,1880...|\n",
      "|00190820581d90ce|FUCK YOUR FILTHY ...|    1|           0|      1|     0|     1|            0|[fuck, your, filt...|(65536,[23262,303...|(65536,[23262,303...|\n",
      "|001c419c445b5a59|You had a point, ...|    0|           0|      0|     0|     0|            0|[you, had, a, poi...|(65536,[16666,183...|(65536,[16666,183...|\n",
      "|001c557175094f10|In other words, y...|    0|           0|      0|     0|     0|            0|[in, other, words...|(65536,[1903,5923...|(65536,[1903,5923...|\n",
      "|001dc38a83d420cf|GET FUCKED UP. GE...|    1|           0|      1|     0|     0|            0|[get, fucked, up....|(65536,[1540,4053...|(65536,[1540,4053...|\n",
      "+----------------+--------------------+-----+------------+-------+------+------+-------------+--------------------+--------------------+--------------------+\n",
      "only showing top 20 rows\n",
      "\n"
     ]
    }
   ],
   "source": [
    "train_X.show()"
   ]
  },
  {
   "cell_type": "code",
   "execution_count": 223,
   "id": "7e755c32",
   "metadata": {},
   "outputs": [
    {
     "ename": "Py4JJavaError",
     "evalue": "An error occurred while calling o4177.fit.\n: org.apache.spark.SparkException: Job aborted due to stage failure: Task 1 in stage 159.0 failed 1 times, most recent failure: Lost task 1.0 in stage 159.0 (TID 328) (DESKTOP-ITN2I8Q executor driver): scala.MatchError: [null,1.0,(65536,[10790],[0.0])] (of class org.apache.spark.sql.catalyst.expressions.GenericRowWithSchema)\r\n\tat org.apache.spark.ml.PredictorParams.$anonfun$extractInstances$1(Predictor.scala:81)\r\n\tat scala.collection.Iterator$$anon$10.next(Iterator.scala:461)\r\n\tat scala.collection.Iterator.foreach(Iterator.scala:943)\r\n\tat scala.collection.Iterator.foreach$(Iterator.scala:943)\r\n\tat scala.collection.AbstractIterator.foreach(Iterator.scala:1431)\r\n\tat scala.collection.TraversableOnce.foldLeft(TraversableOnce.scala:199)\r\n\tat scala.collection.TraversableOnce.foldLeft$(TraversableOnce.scala:192)\r\n\tat scala.collection.AbstractIterator.foldLeft(Iterator.scala:1431)\r\n\tat scala.collection.TraversableOnce.aggregate(TraversableOnce.scala:260)\r\n\tat scala.collection.TraversableOnce.aggregate$(TraversableOnce.scala:260)\r\n\tat scala.collection.AbstractIterator.aggregate(Iterator.scala:1431)\r\n\tat org.apache.spark.rdd.RDD.$anonfun$treeAggregate$4(RDD.scala:1236)\r\n\tat org.apache.spark.rdd.RDD.$anonfun$treeAggregate$6(RDD.scala:1237)\r\n\tat org.apache.spark.rdd.RDD.$anonfun$mapPartitions$2(RDD.scala:855)\r\n\tat org.apache.spark.rdd.RDD.$anonfun$mapPartitions$2$adapted(RDD.scala:855)\r\n\tat org.apache.spark.rdd.MapPartitionsRDD.compute(MapPartitionsRDD.scala:52)\r\n\tat org.apache.spark.rdd.RDD.computeOrReadCheckpoint(RDD.scala:365)\r\n\tat org.apache.spark.rdd.RDD.iterator(RDD.scala:329)\r\n\tat org.apache.spark.scheduler.ResultTask.runTask(ResultTask.scala:90)\r\n\tat org.apache.spark.scheduler.Task.run(Task.scala:136)\r\n\tat org.apache.spark.executor.Executor$TaskRunner.$anonfun$run$3(Executor.scala:548)\r\n\tat org.apache.spark.util.Utils$.tryWithSafeFinally(Utils.scala:1504)\r\n\tat org.apache.spark.executor.Executor$TaskRunner.run(Executor.scala:551)\r\n\tat java.base/java.util.concurrent.ThreadPoolExecutor.runWorker(ThreadPoolExecutor.java:1136)\r\n\tat java.base/java.util.concurrent.ThreadPoolExecutor$Worker.run(ThreadPoolExecutor.java:635)\r\n\tat java.base/java.lang.Thread.run(Thread.java:833)\r\n\nDriver stacktrace:\r\n\tat org.apache.spark.scheduler.DAGScheduler.failJobAndIndependentStages(DAGScheduler.scala:2672)\r\n\tat org.apache.spark.scheduler.DAGScheduler.$anonfun$abortStage$2(DAGScheduler.scala:2608)\r\n\tat org.apache.spark.scheduler.DAGScheduler.$anonfun$abortStage$2$adapted(DAGScheduler.scala:2607)\r\n\tat scala.collection.mutable.ResizableArray.foreach(ResizableArray.scala:62)\r\n\tat scala.collection.mutable.ResizableArray.foreach$(ResizableArray.scala:55)\r\n\tat scala.collection.mutable.ArrayBuffer.foreach(ArrayBuffer.scala:49)\r\n\tat org.apache.spark.scheduler.DAGScheduler.abortStage(DAGScheduler.scala:2607)\r\n\tat org.apache.spark.scheduler.DAGScheduler.$anonfun$handleTaskSetFailed$1(DAGScheduler.scala:1182)\r\n\tat org.apache.spark.scheduler.DAGScheduler.$anonfun$handleTaskSetFailed$1$adapted(DAGScheduler.scala:1182)\r\n\tat scala.Option.foreach(Option.scala:407)\r\n\tat org.apache.spark.scheduler.DAGScheduler.handleTaskSetFailed(DAGScheduler.scala:1182)\r\n\tat org.apache.spark.scheduler.DAGSchedulerEventProcessLoop.doOnReceive(DAGScheduler.scala:2860)\r\n\tat org.apache.spark.scheduler.DAGSchedulerEventProcessLoop.onReceive(DAGScheduler.scala:2802)\r\n\tat org.apache.spark.scheduler.DAGSchedulerEventProcessLoop.onReceive(DAGScheduler.scala:2791)\r\n\tat org.apache.spark.util.EventLoop$$anon$1.run(EventLoop.scala:49)\r\n\tat org.apache.spark.scheduler.DAGScheduler.runJob(DAGScheduler.scala:952)\r\n\tat org.apache.spark.SparkContext.runJob(SparkContext.scala:2228)\r\n\tat org.apache.spark.SparkContext.runJob(SparkContext.scala:2323)\r\n\tat org.apache.spark.rdd.RDD.$anonfun$fold$1(RDD.scala:1174)\r\n\tat org.apache.spark.rdd.RDDOperationScope$.withScope(RDDOperationScope.scala:151)\r\n\tat org.apache.spark.rdd.RDDOperationScope$.withScope(RDDOperationScope.scala:112)\r\n\tat org.apache.spark.rdd.RDD.withScope(RDD.scala:406)\r\n\tat org.apache.spark.rdd.RDD.fold(RDD.scala:1168)\r\n\tat org.apache.spark.rdd.RDD.$anonfun$treeAggregate$2(RDD.scala:1267)\r\n\tat org.apache.spark.rdd.RDDOperationScope$.withScope(RDDOperationScope.scala:151)\r\n\tat org.apache.spark.rdd.RDDOperationScope$.withScope(RDDOperationScope.scala:112)\r\n\tat org.apache.spark.rdd.RDD.withScope(RDD.scala:406)\r\n\tat org.apache.spark.rdd.RDD.treeAggregate(RDD.scala:1228)\r\n\tat org.apache.spark.rdd.RDD.$anonfun$treeAggregate$1(RDD.scala:1214)\r\n\tat org.apache.spark.rdd.RDDOperationScope$.withScope(RDDOperationScope.scala:151)\r\n\tat org.apache.spark.rdd.RDDOperationScope$.withScope(RDDOperationScope.scala:112)\r\n\tat org.apache.spark.rdd.RDD.withScope(RDD.scala:406)\r\n\tat org.apache.spark.rdd.RDD.treeAggregate(RDD.scala:1214)\r\n\tat org.apache.spark.ml.stat.Summarizer$.getClassificationSummarizers(Summarizer.scala:233)\r\n\tat org.apache.spark.ml.classification.LogisticRegression.$anonfun$train$1(LogisticRegression.scala:512)\r\n\tat org.apache.spark.ml.util.Instrumentation$.$anonfun$instrumented$1(Instrumentation.scala:191)\r\n\tat scala.util.Try$.apply(Try.scala:213)\r\n\tat org.apache.spark.ml.util.Instrumentation$.instrumented(Instrumentation.scala:191)\r\n\tat org.apache.spark.ml.classification.LogisticRegression.train(LogisticRegression.scala:496)\r\n\tat org.apache.spark.ml.classification.LogisticRegression.train(LogisticRegression.scala:286)\r\n\tat org.apache.spark.ml.Predictor.fit(Predictor.scala:151)\r\n\tat java.base/jdk.internal.reflect.NativeMethodAccessorImpl.invoke0(Native Method)\r\n\tat java.base/jdk.internal.reflect.NativeMethodAccessorImpl.invoke(NativeMethodAccessorImpl.java:77)\r\n\tat java.base/jdk.internal.reflect.DelegatingMethodAccessorImpl.invoke(DelegatingMethodAccessorImpl.java:43)\r\n\tat java.base/java.lang.reflect.Method.invoke(Method.java:568)\r\n\tat py4j.reflection.MethodInvoker.invoke(MethodInvoker.java:244)\r\n\tat py4j.reflection.ReflectionEngine.invoke(ReflectionEngine.java:357)\r\n\tat py4j.Gateway.invoke(Gateway.java:282)\r\n\tat py4j.commands.AbstractCommand.invokeMethod(AbstractCommand.java:132)\r\n\tat py4j.commands.CallCommand.execute(CallCommand.java:79)\r\n\tat py4j.ClientServerConnection.waitForCommands(ClientServerConnection.java:182)\r\n\tat py4j.ClientServerConnection.run(ClientServerConnection.java:106)\r\n\tat java.base/java.lang.Thread.run(Thread.java:833)\r\nCaused by: scala.MatchError: [null,1.0,(65536,[10790],[0.0])] (of class org.apache.spark.sql.catalyst.expressions.GenericRowWithSchema)\r\n\tat org.apache.spark.ml.PredictorParams.$anonfun$extractInstances$1(Predictor.scala:81)\r\n\tat scala.collection.Iterator$$anon$10.next(Iterator.scala:461)\r\n\tat scala.collection.Iterator.foreach(Iterator.scala:943)\r\n\tat scala.collection.Iterator.foreach$(Iterator.scala:943)\r\n\tat scala.collection.AbstractIterator.foreach(Iterator.scala:1431)\r\n\tat scala.collection.TraversableOnce.foldLeft(TraversableOnce.scala:199)\r\n\tat scala.collection.TraversableOnce.foldLeft$(TraversableOnce.scala:192)\r\n\tat scala.collection.AbstractIterator.foldLeft(Iterator.scala:1431)\r\n\tat scala.collection.TraversableOnce.aggregate(TraversableOnce.scala:260)\r\n\tat scala.collection.TraversableOnce.aggregate$(TraversableOnce.scala:260)\r\n\tat scala.collection.AbstractIterator.aggregate(Iterator.scala:1431)\r\n\tat org.apache.spark.rdd.RDD.$anonfun$treeAggregate$4(RDD.scala:1236)\r\n\tat org.apache.spark.rdd.RDD.$anonfun$treeAggregate$6(RDD.scala:1237)\r\n\tat org.apache.spark.rdd.RDD.$anonfun$mapPartitions$2(RDD.scala:855)\r\n\tat org.apache.spark.rdd.RDD.$anonfun$mapPartitions$2$adapted(RDD.scala:855)\r\n\tat org.apache.spark.rdd.MapPartitionsRDD.compute(MapPartitionsRDD.scala:52)\r\n\tat org.apache.spark.rdd.RDD.computeOrReadCheckpoint(RDD.scala:365)\r\n\tat org.apache.spark.rdd.RDD.iterator(RDD.scala:329)\r\n\tat org.apache.spark.scheduler.ResultTask.runTask(ResultTask.scala:90)\r\n\tat org.apache.spark.scheduler.Task.run(Task.scala:136)\r\n\tat org.apache.spark.executor.Executor$TaskRunner.$anonfun$run$3(Executor.scala:548)\r\n\tat org.apache.spark.util.Utils$.tryWithSafeFinally(Utils.scala:1504)\r\n\tat org.apache.spark.executor.Executor$TaskRunner.run(Executor.scala:551)\r\n\tat java.base/java.util.concurrent.ThreadPoolExecutor.runWorker(ThreadPoolExecutor.java:1136)\r\n\tat java.base/java.util.concurrent.ThreadPoolExecutor$Worker.run(ThreadPoolExecutor.java:635)\r\n\t... 1 more\r\n",
     "output_type": "error",
     "traceback": [
      "\u001b[1;31m---------------------------------------------------------------------------\u001b[0m",
      "\u001b[1;31mPy4JJavaError\u001b[0m                             Traceback (most recent call last)",
      "\u001b[1;32mC:\\Users\\SKIENB~1\\AppData\\Local\\Temp/ipykernel_23504/1271139895.py\u001b[0m in \u001b[0;36m<module>\u001b[1;34m\u001b[0m\n\u001b[0;32m      2\u001b[0m \u001b[1;33m\u001b[0m\u001b[0m\n\u001b[0;32m      3\u001b[0m \u001b[1;31m#Apply the logistic regression model\u001b[0m\u001b[1;33m\u001b[0m\u001b[1;33m\u001b[0m\u001b[0m\n\u001b[1;32m----> 4\u001b[1;33m \u001b[0mlog_reg\u001b[0m\u001b[1;33m=\u001b[0m\u001b[0mLogisticRegression\u001b[0m\u001b[1;33m(\u001b[0m\u001b[0mfeaturesCol\u001b[0m\u001b[1;33m=\u001b[0m\u001b[1;34m'features'\u001b[0m\u001b[1;33m,\u001b[0m \u001b[0mlabelCol\u001b[0m\u001b[1;33m=\u001b[0m\u001b[1;34m'toxic'\u001b[0m\u001b[1;33m)\u001b[0m\u001b[1;33m.\u001b[0m\u001b[0mfit\u001b[0m\u001b[1;33m(\u001b[0m\u001b[0mtrain_X\u001b[0m\u001b[1;33m)\u001b[0m\u001b[1;33m\u001b[0m\u001b[1;33m\u001b[0m\u001b[0m\n\u001b[0m\u001b[0;32m      5\u001b[0m \u001b[1;33m\u001b[0m\u001b[0m\n\u001b[0;32m      6\u001b[0m \u001b[1;31m#Training Results\u001b[0m\u001b[1;33m\u001b[0m\u001b[1;33m\u001b[0m\u001b[0m\n",
      "\u001b[1;32mC:\\ProgramData\\Anaconda3\\lib\\site-packages\\pyspark\\ml\\base.py\u001b[0m in \u001b[0;36mfit\u001b[1;34m(self, dataset, params)\u001b[0m\n\u001b[0;32m    203\u001b[0m                 \u001b[1;32mreturn\u001b[0m \u001b[0mself\u001b[0m\u001b[1;33m.\u001b[0m\u001b[0mcopy\u001b[0m\u001b[1;33m(\u001b[0m\u001b[0mparams\u001b[0m\u001b[1;33m)\u001b[0m\u001b[1;33m.\u001b[0m\u001b[0m_fit\u001b[0m\u001b[1;33m(\u001b[0m\u001b[0mdataset\u001b[0m\u001b[1;33m)\u001b[0m\u001b[1;33m\u001b[0m\u001b[1;33m\u001b[0m\u001b[0m\n\u001b[0;32m    204\u001b[0m             \u001b[1;32melse\u001b[0m\u001b[1;33m:\u001b[0m\u001b[1;33m\u001b[0m\u001b[1;33m\u001b[0m\u001b[0m\n\u001b[1;32m--> 205\u001b[1;33m                 \u001b[1;32mreturn\u001b[0m \u001b[0mself\u001b[0m\u001b[1;33m.\u001b[0m\u001b[0m_fit\u001b[0m\u001b[1;33m(\u001b[0m\u001b[0mdataset\u001b[0m\u001b[1;33m)\u001b[0m\u001b[1;33m\u001b[0m\u001b[1;33m\u001b[0m\u001b[0m\n\u001b[0m\u001b[0;32m    206\u001b[0m         \u001b[1;32melse\u001b[0m\u001b[1;33m:\u001b[0m\u001b[1;33m\u001b[0m\u001b[1;33m\u001b[0m\u001b[0m\n\u001b[0;32m    207\u001b[0m             raise TypeError(\n",
      "\u001b[1;32mC:\\ProgramData\\Anaconda3\\lib\\site-packages\\pyspark\\ml\\wrapper.py\u001b[0m in \u001b[0;36m_fit\u001b[1;34m(self, dataset)\u001b[0m\n\u001b[0;32m    381\u001b[0m \u001b[1;33m\u001b[0m\u001b[0m\n\u001b[0;32m    382\u001b[0m     \u001b[1;32mdef\u001b[0m \u001b[0m_fit\u001b[0m\u001b[1;33m(\u001b[0m\u001b[0mself\u001b[0m\u001b[1;33m,\u001b[0m \u001b[0mdataset\u001b[0m\u001b[1;33m:\u001b[0m \u001b[0mDataFrame\u001b[0m\u001b[1;33m)\u001b[0m \u001b[1;33m->\u001b[0m \u001b[0mJM\u001b[0m\u001b[1;33m:\u001b[0m\u001b[1;33m\u001b[0m\u001b[1;33m\u001b[0m\u001b[0m\n\u001b[1;32m--> 383\u001b[1;33m         \u001b[0mjava_model\u001b[0m \u001b[1;33m=\u001b[0m \u001b[0mself\u001b[0m\u001b[1;33m.\u001b[0m\u001b[0m_fit_java\u001b[0m\u001b[1;33m(\u001b[0m\u001b[0mdataset\u001b[0m\u001b[1;33m)\u001b[0m\u001b[1;33m\u001b[0m\u001b[1;33m\u001b[0m\u001b[0m\n\u001b[0m\u001b[0;32m    384\u001b[0m         \u001b[0mmodel\u001b[0m \u001b[1;33m=\u001b[0m \u001b[0mself\u001b[0m\u001b[1;33m.\u001b[0m\u001b[0m_create_model\u001b[0m\u001b[1;33m(\u001b[0m\u001b[0mjava_model\u001b[0m\u001b[1;33m)\u001b[0m\u001b[1;33m\u001b[0m\u001b[1;33m\u001b[0m\u001b[0m\n\u001b[0;32m    385\u001b[0m         \u001b[1;32mreturn\u001b[0m \u001b[0mself\u001b[0m\u001b[1;33m.\u001b[0m\u001b[0m_copyValues\u001b[0m\u001b[1;33m(\u001b[0m\u001b[0mmodel\u001b[0m\u001b[1;33m)\u001b[0m\u001b[1;33m\u001b[0m\u001b[1;33m\u001b[0m\u001b[0m\n",
      "\u001b[1;32mC:\\ProgramData\\Anaconda3\\lib\\site-packages\\pyspark\\ml\\wrapper.py\u001b[0m in \u001b[0;36m_fit_java\u001b[1;34m(self, dataset)\u001b[0m\n\u001b[0;32m    378\u001b[0m \u001b[1;33m\u001b[0m\u001b[0m\n\u001b[0;32m    379\u001b[0m         \u001b[0mself\u001b[0m\u001b[1;33m.\u001b[0m\u001b[0m_transfer_params_to_java\u001b[0m\u001b[1;33m(\u001b[0m\u001b[1;33m)\u001b[0m\u001b[1;33m\u001b[0m\u001b[1;33m\u001b[0m\u001b[0m\n\u001b[1;32m--> 380\u001b[1;33m         \u001b[1;32mreturn\u001b[0m \u001b[0mself\u001b[0m\u001b[1;33m.\u001b[0m\u001b[0m_java_obj\u001b[0m\u001b[1;33m.\u001b[0m\u001b[0mfit\u001b[0m\u001b[1;33m(\u001b[0m\u001b[0mdataset\u001b[0m\u001b[1;33m.\u001b[0m\u001b[0m_jdf\u001b[0m\u001b[1;33m)\u001b[0m\u001b[1;33m\u001b[0m\u001b[1;33m\u001b[0m\u001b[0m\n\u001b[0m\u001b[0;32m    381\u001b[0m \u001b[1;33m\u001b[0m\u001b[0m\n\u001b[0;32m    382\u001b[0m     \u001b[1;32mdef\u001b[0m \u001b[0m_fit\u001b[0m\u001b[1;33m(\u001b[0m\u001b[0mself\u001b[0m\u001b[1;33m,\u001b[0m \u001b[0mdataset\u001b[0m\u001b[1;33m:\u001b[0m \u001b[0mDataFrame\u001b[0m\u001b[1;33m)\u001b[0m \u001b[1;33m->\u001b[0m \u001b[0mJM\u001b[0m\u001b[1;33m:\u001b[0m\u001b[1;33m\u001b[0m\u001b[1;33m\u001b[0m\u001b[0m\n",
      "\u001b[1;32mC:\\ProgramData\\Anaconda3\\lib\\site-packages\\py4j\\java_gateway.py\u001b[0m in \u001b[0;36m__call__\u001b[1;34m(self, *args)\u001b[0m\n\u001b[0;32m   1319\u001b[0m \u001b[1;33m\u001b[0m\u001b[0m\n\u001b[0;32m   1320\u001b[0m         \u001b[0manswer\u001b[0m \u001b[1;33m=\u001b[0m \u001b[0mself\u001b[0m\u001b[1;33m.\u001b[0m\u001b[0mgateway_client\u001b[0m\u001b[1;33m.\u001b[0m\u001b[0msend_command\u001b[0m\u001b[1;33m(\u001b[0m\u001b[0mcommand\u001b[0m\u001b[1;33m)\u001b[0m\u001b[1;33m\u001b[0m\u001b[1;33m\u001b[0m\u001b[0m\n\u001b[1;32m-> 1321\u001b[1;33m         return_value = get_return_value(\n\u001b[0m\u001b[0;32m   1322\u001b[0m             answer, self.gateway_client, self.target_id, self.name)\n\u001b[0;32m   1323\u001b[0m \u001b[1;33m\u001b[0m\u001b[0m\n",
      "\u001b[1;32mC:\\ProgramData\\Anaconda3\\lib\\site-packages\\pyspark\\sql\\utils.py\u001b[0m in \u001b[0;36mdeco\u001b[1;34m(*a, **kw)\u001b[0m\n\u001b[0;32m    188\u001b[0m     \u001b[1;32mdef\u001b[0m \u001b[0mdeco\u001b[0m\u001b[1;33m(\u001b[0m\u001b[1;33m*\u001b[0m\u001b[0ma\u001b[0m\u001b[1;33m:\u001b[0m \u001b[0mAny\u001b[0m\u001b[1;33m,\u001b[0m \u001b[1;33m**\u001b[0m\u001b[0mkw\u001b[0m\u001b[1;33m:\u001b[0m \u001b[0mAny\u001b[0m\u001b[1;33m)\u001b[0m \u001b[1;33m->\u001b[0m \u001b[0mAny\u001b[0m\u001b[1;33m:\u001b[0m\u001b[1;33m\u001b[0m\u001b[1;33m\u001b[0m\u001b[0m\n\u001b[0;32m    189\u001b[0m         \u001b[1;32mtry\u001b[0m\u001b[1;33m:\u001b[0m\u001b[1;33m\u001b[0m\u001b[1;33m\u001b[0m\u001b[0m\n\u001b[1;32m--> 190\u001b[1;33m             \u001b[1;32mreturn\u001b[0m \u001b[0mf\u001b[0m\u001b[1;33m(\u001b[0m\u001b[1;33m*\u001b[0m\u001b[0ma\u001b[0m\u001b[1;33m,\u001b[0m \u001b[1;33m**\u001b[0m\u001b[0mkw\u001b[0m\u001b[1;33m)\u001b[0m\u001b[1;33m\u001b[0m\u001b[1;33m\u001b[0m\u001b[0m\n\u001b[0m\u001b[0;32m    191\u001b[0m         \u001b[1;32mexcept\u001b[0m \u001b[0mPy4JJavaError\u001b[0m \u001b[1;32mas\u001b[0m \u001b[0me\u001b[0m\u001b[1;33m:\u001b[0m\u001b[1;33m\u001b[0m\u001b[1;33m\u001b[0m\u001b[0m\n\u001b[0;32m    192\u001b[0m             \u001b[0mconverted\u001b[0m \u001b[1;33m=\u001b[0m \u001b[0mconvert_exception\u001b[0m\u001b[1;33m(\u001b[0m\u001b[0me\u001b[0m\u001b[1;33m.\u001b[0m\u001b[0mjava_exception\u001b[0m\u001b[1;33m)\u001b[0m\u001b[1;33m\u001b[0m\u001b[1;33m\u001b[0m\u001b[0m\n",
      "\u001b[1;32mC:\\ProgramData\\Anaconda3\\lib\\site-packages\\py4j\\protocol.py\u001b[0m in \u001b[0;36mget_return_value\u001b[1;34m(answer, gateway_client, target_id, name)\u001b[0m\n\u001b[0;32m    324\u001b[0m             \u001b[0mvalue\u001b[0m \u001b[1;33m=\u001b[0m \u001b[0mOUTPUT_CONVERTER\u001b[0m\u001b[1;33m[\u001b[0m\u001b[0mtype\u001b[0m\u001b[1;33m]\u001b[0m\u001b[1;33m(\u001b[0m\u001b[0manswer\u001b[0m\u001b[1;33m[\u001b[0m\u001b[1;36m2\u001b[0m\u001b[1;33m:\u001b[0m\u001b[1;33m]\u001b[0m\u001b[1;33m,\u001b[0m \u001b[0mgateway_client\u001b[0m\u001b[1;33m)\u001b[0m\u001b[1;33m\u001b[0m\u001b[1;33m\u001b[0m\u001b[0m\n\u001b[0;32m    325\u001b[0m             \u001b[1;32mif\u001b[0m \u001b[0manswer\u001b[0m\u001b[1;33m[\u001b[0m\u001b[1;36m1\u001b[0m\u001b[1;33m]\u001b[0m \u001b[1;33m==\u001b[0m \u001b[0mREFERENCE_TYPE\u001b[0m\u001b[1;33m:\u001b[0m\u001b[1;33m\u001b[0m\u001b[1;33m\u001b[0m\u001b[0m\n\u001b[1;32m--> 326\u001b[1;33m                 raise Py4JJavaError(\n\u001b[0m\u001b[0;32m    327\u001b[0m                     \u001b[1;34m\"An error occurred while calling {0}{1}{2}.\\n\"\u001b[0m\u001b[1;33m.\u001b[0m\u001b[1;33m\u001b[0m\u001b[1;33m\u001b[0m\u001b[0m\n\u001b[0;32m    328\u001b[0m                     format(target_id, \".\", name), value)\n",
      "\u001b[1;31mPy4JJavaError\u001b[0m: An error occurred while calling o4177.fit.\n: org.apache.spark.SparkException: Job aborted due to stage failure: Task 1 in stage 159.0 failed 1 times, most recent failure: Lost task 1.0 in stage 159.0 (TID 328) (DESKTOP-ITN2I8Q executor driver): scala.MatchError: [null,1.0,(65536,[10790],[0.0])] (of class org.apache.spark.sql.catalyst.expressions.GenericRowWithSchema)\r\n\tat org.apache.spark.ml.PredictorParams.$anonfun$extractInstances$1(Predictor.scala:81)\r\n\tat scala.collection.Iterator$$anon$10.next(Iterator.scala:461)\r\n\tat scala.collection.Iterator.foreach(Iterator.scala:943)\r\n\tat scala.collection.Iterator.foreach$(Iterator.scala:943)\r\n\tat scala.collection.AbstractIterator.foreach(Iterator.scala:1431)\r\n\tat scala.collection.TraversableOnce.foldLeft(TraversableOnce.scala:199)\r\n\tat scala.collection.TraversableOnce.foldLeft$(TraversableOnce.scala:192)\r\n\tat scala.collection.AbstractIterator.foldLeft(Iterator.scala:1431)\r\n\tat scala.collection.TraversableOnce.aggregate(TraversableOnce.scala:260)\r\n\tat scala.collection.TraversableOnce.aggregate$(TraversableOnce.scala:260)\r\n\tat scala.collection.AbstractIterator.aggregate(Iterator.scala:1431)\r\n\tat org.apache.spark.rdd.RDD.$anonfun$treeAggregate$4(RDD.scala:1236)\r\n\tat org.apache.spark.rdd.RDD.$anonfun$treeAggregate$6(RDD.scala:1237)\r\n\tat org.apache.spark.rdd.RDD.$anonfun$mapPartitions$2(RDD.scala:855)\r\n\tat org.apache.spark.rdd.RDD.$anonfun$mapPartitions$2$adapted(RDD.scala:855)\r\n\tat org.apache.spark.rdd.MapPartitionsRDD.compute(MapPartitionsRDD.scala:52)\r\n\tat org.apache.spark.rdd.RDD.computeOrReadCheckpoint(RDD.scala:365)\r\n\tat org.apache.spark.rdd.RDD.iterator(RDD.scala:329)\r\n\tat org.apache.spark.scheduler.ResultTask.runTask(ResultTask.scala:90)\r\n\tat org.apache.spark.scheduler.Task.run(Task.scala:136)\r\n\tat org.apache.spark.executor.Executor$TaskRunner.$anonfun$run$3(Executor.scala:548)\r\n\tat org.apache.spark.util.Utils$.tryWithSafeFinally(Utils.scala:1504)\r\n\tat org.apache.spark.executor.Executor$TaskRunner.run(Executor.scala:551)\r\n\tat java.base/java.util.concurrent.ThreadPoolExecutor.runWorker(ThreadPoolExecutor.java:1136)\r\n\tat java.base/java.util.concurrent.ThreadPoolExecutor$Worker.run(ThreadPoolExecutor.java:635)\r\n\tat java.base/java.lang.Thread.run(Thread.java:833)\r\n\nDriver stacktrace:\r\n\tat org.apache.spark.scheduler.DAGScheduler.failJobAndIndependentStages(DAGScheduler.scala:2672)\r\n\tat org.apache.spark.scheduler.DAGScheduler.$anonfun$abortStage$2(DAGScheduler.scala:2608)\r\n\tat org.apache.spark.scheduler.DAGScheduler.$anonfun$abortStage$2$adapted(DAGScheduler.scala:2607)\r\n\tat scala.collection.mutable.ResizableArray.foreach(ResizableArray.scala:62)\r\n\tat scala.collection.mutable.ResizableArray.foreach$(ResizableArray.scala:55)\r\n\tat scala.collection.mutable.ArrayBuffer.foreach(ArrayBuffer.scala:49)\r\n\tat org.apache.spark.scheduler.DAGScheduler.abortStage(DAGScheduler.scala:2607)\r\n\tat org.apache.spark.scheduler.DAGScheduler.$anonfun$handleTaskSetFailed$1(DAGScheduler.scala:1182)\r\n\tat org.apache.spark.scheduler.DAGScheduler.$anonfun$handleTaskSetFailed$1$adapted(DAGScheduler.scala:1182)\r\n\tat scala.Option.foreach(Option.scala:407)\r\n\tat org.apache.spark.scheduler.DAGScheduler.handleTaskSetFailed(DAGScheduler.scala:1182)\r\n\tat org.apache.spark.scheduler.DAGSchedulerEventProcessLoop.doOnReceive(DAGScheduler.scala:2860)\r\n\tat org.apache.spark.scheduler.DAGSchedulerEventProcessLoop.onReceive(DAGScheduler.scala:2802)\r\n\tat org.apache.spark.scheduler.DAGSchedulerEventProcessLoop.onReceive(DAGScheduler.scala:2791)\r\n\tat org.apache.spark.util.EventLoop$$anon$1.run(EventLoop.scala:49)\r\n\tat org.apache.spark.scheduler.DAGScheduler.runJob(DAGScheduler.scala:952)\r\n\tat org.apache.spark.SparkContext.runJob(SparkContext.scala:2228)\r\n\tat org.apache.spark.SparkContext.runJob(SparkContext.scala:2323)\r\n\tat org.apache.spark.rdd.RDD.$anonfun$fold$1(RDD.scala:1174)\r\n\tat org.apache.spark.rdd.RDDOperationScope$.withScope(RDDOperationScope.scala:151)\r\n\tat org.apache.spark.rdd.RDDOperationScope$.withScope(RDDOperationScope.scala:112)\r\n\tat org.apache.spark.rdd.RDD.withScope(RDD.scala:406)\r\n\tat org.apache.spark.rdd.RDD.fold(RDD.scala:1168)\r\n\tat org.apache.spark.rdd.RDD.$anonfun$treeAggregate$2(RDD.scala:1267)\r\n\tat org.apache.spark.rdd.RDDOperationScope$.withScope(RDDOperationScope.scala:151)\r\n\tat org.apache.spark.rdd.RDDOperationScope$.withScope(RDDOperationScope.scala:112)\r\n\tat org.apache.spark.rdd.RDD.withScope(RDD.scala:406)\r\n\tat org.apache.spark.rdd.RDD.treeAggregate(RDD.scala:1228)\r\n\tat org.apache.spark.rdd.RDD.$anonfun$treeAggregate$1(RDD.scala:1214)\r\n\tat org.apache.spark.rdd.RDDOperationScope$.withScope(RDDOperationScope.scala:151)\r\n\tat org.apache.spark.rdd.RDDOperationScope$.withScope(RDDOperationScope.scala:112)\r\n\tat org.apache.spark.rdd.RDD.withScope(RDD.scala:406)\r\n\tat org.apache.spark.rdd.RDD.treeAggregate(RDD.scala:1214)\r\n\tat org.apache.spark.ml.stat.Summarizer$.getClassificationSummarizers(Summarizer.scala:233)\r\n\tat org.apache.spark.ml.classification.LogisticRegression.$anonfun$train$1(LogisticRegression.scala:512)\r\n\tat org.apache.spark.ml.util.Instrumentation$.$anonfun$instrumented$1(Instrumentation.scala:191)\r\n\tat scala.util.Try$.apply(Try.scala:213)\r\n\tat org.apache.spark.ml.util.Instrumentation$.instrumented(Instrumentation.scala:191)\r\n\tat org.apache.spark.ml.classification.LogisticRegression.train(LogisticRegression.scala:496)\r\n\tat org.apache.spark.ml.classification.LogisticRegression.train(LogisticRegression.scala:286)\r\n\tat org.apache.spark.ml.Predictor.fit(Predictor.scala:151)\r\n\tat java.base/jdk.internal.reflect.NativeMethodAccessorImpl.invoke0(Native Method)\r\n\tat java.base/jdk.internal.reflect.NativeMethodAccessorImpl.invoke(NativeMethodAccessorImpl.java:77)\r\n\tat java.base/jdk.internal.reflect.DelegatingMethodAccessorImpl.invoke(DelegatingMethodAccessorImpl.java:43)\r\n\tat java.base/java.lang.reflect.Method.invoke(Method.java:568)\r\n\tat py4j.reflection.MethodInvoker.invoke(MethodInvoker.java:244)\r\n\tat py4j.reflection.ReflectionEngine.invoke(ReflectionEngine.java:357)\r\n\tat py4j.Gateway.invoke(Gateway.java:282)\r\n\tat py4j.commands.AbstractCommand.invokeMethod(AbstractCommand.java:132)\r\n\tat py4j.commands.CallCommand.execute(CallCommand.java:79)\r\n\tat py4j.ClientServerConnection.waitForCommands(ClientServerConnection.java:182)\r\n\tat py4j.ClientServerConnection.run(ClientServerConnection.java:106)\r\n\tat java.base/java.lang.Thread.run(Thread.java:833)\r\nCaused by: scala.MatchError: [null,1.0,(65536,[10790],[0.0])] (of class org.apache.spark.sql.catalyst.expressions.GenericRowWithSchema)\r\n\tat org.apache.spark.ml.PredictorParams.$anonfun$extractInstances$1(Predictor.scala:81)\r\n\tat scala.collection.Iterator$$anon$10.next(Iterator.scala:461)\r\n\tat scala.collection.Iterator.foreach(Iterator.scala:943)\r\n\tat scala.collection.Iterator.foreach$(Iterator.scala:943)\r\n\tat scala.collection.AbstractIterator.foreach(Iterator.scala:1431)\r\n\tat scala.collection.TraversableOnce.foldLeft(TraversableOnce.scala:199)\r\n\tat scala.collection.TraversableOnce.foldLeft$(TraversableOnce.scala:192)\r\n\tat scala.collection.AbstractIterator.foldLeft(Iterator.scala:1431)\r\n\tat scala.collection.TraversableOnce.aggregate(TraversableOnce.scala:260)\r\n\tat scala.collection.TraversableOnce.aggregate$(TraversableOnce.scala:260)\r\n\tat scala.collection.AbstractIterator.aggregate(Iterator.scala:1431)\r\n\tat org.apache.spark.rdd.RDD.$anonfun$treeAggregate$4(RDD.scala:1236)\r\n\tat org.apache.spark.rdd.RDD.$anonfun$treeAggregate$6(RDD.scala:1237)\r\n\tat org.apache.spark.rdd.RDD.$anonfun$mapPartitions$2(RDD.scala:855)\r\n\tat org.apache.spark.rdd.RDD.$anonfun$mapPartitions$2$adapted(RDD.scala:855)\r\n\tat org.apache.spark.rdd.MapPartitionsRDD.compute(MapPartitionsRDD.scala:52)\r\n\tat org.apache.spark.rdd.RDD.computeOrReadCheckpoint(RDD.scala:365)\r\n\tat org.apache.spark.rdd.RDD.iterator(RDD.scala:329)\r\n\tat org.apache.spark.scheduler.ResultTask.runTask(ResultTask.scala:90)\r\n\tat org.apache.spark.scheduler.Task.run(Task.scala:136)\r\n\tat org.apache.spark.executor.Executor$TaskRunner.$anonfun$run$3(Executor.scala:548)\r\n\tat org.apache.spark.util.Utils$.tryWithSafeFinally(Utils.scala:1504)\r\n\tat org.apache.spark.executor.Executor$TaskRunner.run(Executor.scala:551)\r\n\tat java.base/java.util.concurrent.ThreadPoolExecutor.runWorker(ThreadPoolExecutor.java:1136)\r\n\tat java.base/java.util.concurrent.ThreadPoolExecutor$Worker.run(ThreadPoolExecutor.java:635)\r\n\t... 1 more\r\n"
     ]
    }
   ],
   "source": [
    "from pyspark.ml.classification import LogisticRegression\n",
    "\n",
    "#Apply the logistic regression model\n",
    "log_reg=LogisticRegression(featuresCol='features', labelCol='toxic').fit(train_X)\n",
    "\n",
    "#Training Results\n",
    "train_results=log_reg.evaluate(training_df).predictions\n",
    "train_results.filter(train_results['toxic']==1).filter(train_results['prediction']==1).select(['toxic','prediction','probability']).show(10,False)"
   ]
  },
  {
   "cell_type": "code",
   "execution_count": null,
   "id": "b11654a4",
   "metadata": {},
   "outputs": [],
   "source": []
  }
 ],
 "metadata": {
  "kernelspec": {
   "display_name": "Python 3 (ipykernel)",
   "language": "python",
   "name": "python3"
  },
  "language_info": {
   "codemirror_mode": {
    "name": "ipython",
    "version": 3
   },
   "file_extension": ".py",
   "mimetype": "text/x-python",
   "name": "python",
   "nbconvert_exporter": "python",
   "pygments_lexer": "ipython3",
   "version": "3.9.7"
  }
 },
 "nbformat": 4,
 "nbformat_minor": 5
}
