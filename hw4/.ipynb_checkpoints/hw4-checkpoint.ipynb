{
 "cells": [
  {
   "cell_type": "code",
   "execution_count": 75,
   "id": "956f5b71",
   "metadata": {},
   "outputs": [],
   "source": [
    "import findspark\n",
    "findspark.init()\n",
    "import pyspark as ps\n",
    "import warnings\n",
    "from pyspark.sql import SQLContext\n",
    "from nltk.stem.snowball import SnowballStemmer\n",
    "import pyspark.sql.functions as f\n",
    "from pyspark.sql.functions import trim\n",
    "from pyspark.sql.types import DoubleType,DateType\n"
   ]
  },
  {
   "cell_type": "code",
   "execution_count": 76,
   "id": "ae0632b7",
   "metadata": {},
   "outputs": [],
   "source": [
    "from pyspark.ml.feature import HashingTF, IDF, Tokenizer\n",
    "from pyspark.ml.feature import StringIndexer\n",
    "from pyspark.ml import Pipeline\n",
    "from pyspark.ml.classification import LogisticRegression\n",
    "from pyspark.ml.classification import LinearSVC"
   ]
  },
  {
   "cell_type": "markdown",
   "id": "13aa0126",
   "metadata": {},
   "source": [
    "Загружаем данные"
   ]
  },
  {
   "cell_type": "code",
   "execution_count": 77,
   "id": "e6484566",
   "metadata": {},
   "outputs": [
    {
     "name": "stderr",
     "output_type": "stream",
     "text": [
      "C:\\Users\\SKIENB~1\\AppData\\Local\\Temp/ipykernel_22924/1224509973.py:7: UserWarning: SparkContext already exists in this scope\n",
      "  warnings.warn(\"SparkContext already exists in this scope\")\n"
     ]
    }
   ],
   "source": [
    "try:\n",
    "    # create SparkContext on all CPUs available: in my case I have 4 CPUs on my laptop\n",
    "    sc = ps.SparkContext('local[4]')\n",
    "    sqlContext = SQLContext(sc)\n",
    "    print(\"Just created a SparkContext\")\n",
    "except ValueError:\n",
    "    warnings.warn(\"SparkContext already exists in this scope\")"
   ]
  },
  {
   "cell_type": "code",
   "execution_count": 78,
   "id": "7c214c33",
   "metadata": {},
   "outputs": [
    {
     "data": {
      "text/plain": [
       "pyspark.sql.dataframe.DataFrame"
      ]
     },
     "execution_count": 78,
     "metadata": {},
     "output_type": "execute_result"
    }
   ],
   "source": [
    "df = sqlContext.read.format('com.databricks.spark.csv').options(header='true', inferschema='true').load('dataset/train.csv')\n",
    "df_test = sqlContext.read.format('com.databricks.spark.csv').options(header='true', inferschema='true').load('dataset/test.csv')\n",
    "type(df)"
   ]
  },
  {
   "cell_type": "code",
   "execution_count": 79,
   "id": "fe6977ef",
   "metadata": {},
   "outputs": [
    {
     "name": "stdout",
     "output_type": "stream",
     "text": [
      "root\n",
      " |-- id: string (nullable = true)\n",
      " |-- comment_text: string (nullable = true)\n",
      " |-- toxic: string (nullable = true)\n",
      " |-- severe_toxic: string (nullable = true)\n",
      " |-- obscene: string (nullable = true)\n",
      " |-- threat: string (nullable = true)\n",
      " |-- insult: string (nullable = true)\n",
      " |-- identity_hate: string (nullable = true)\n",
      "\n"
     ]
    }
   ],
   "source": [
    "df.printSchema()"
   ]
  },
  {
   "cell_type": "code",
   "execution_count": 80,
   "id": "b5ce99ed",
   "metadata": {},
   "outputs": [
    {
     "data": {
      "text/plain": [
       "124633"
      ]
     },
     "execution_count": 80,
     "metadata": {},
     "output_type": "execute_result"
    }
   ],
   "source": [
    "df = df.dropna()\n",
    "# df = df.select(trim(\"id\"), 'comment_text', 'toxic', 'severe_toxic', 'obscene', 'threat', 'insult', 'identity_hate')\n",
    "df = df.withColumn(\"id\", trim(df. id))\n",
    "df.count()"
   ]
  },
  {
   "cell_type": "code",
   "execution_count": 81,
   "id": "68730c3a",
   "metadata": {},
   "outputs": [
    {
     "data": {
      "text/plain": [
       "253637"
      ]
     },
     "execution_count": 81,
     "metadata": {},
     "output_type": "execute_result"
    }
   ],
   "source": [
    "df_test = df_test.dropna()\n",
    "df_test = df_test.withColumn(\"id\", trim(df_test. id))\n",
    "df_test.count()"
   ]
  },
  {
   "cell_type": "code",
   "execution_count": 82,
   "id": "8ed61aea",
   "metadata": {},
   "outputs": [],
   "source": [
    "df.registerTempTable(\"df\");\n",
    "df = sqlContext.sql(\"SELECT * FROM df WHERE LENGTH(toxic) == 1 AND LENGTH(id) == 16\")"
   ]
  },
  {
   "cell_type": "code",
   "execution_count": 83,
   "id": "3a109c7a",
   "metadata": {},
   "outputs": [],
   "source": [
    "df = df.withColumn(\"toxic\",df.toxic.cast(DoubleType()))\n",
    "df = df.withColumn(\"severe_toxic\",df.severe_toxic.cast(DoubleType()))\n",
    "df = df.withColumn(\"obscene\",df.obscene.cast(DoubleType()))\n",
    "df = df.withColumn(\"threat\",df.threat.cast(DoubleType()))\n",
    "df = df.withColumn(\"insult\",df.insult.cast(DoubleType()))\n",
    "df = df.withColumn(\"identity_hate\",df.identity_hate.cast(DoubleType()))"
   ]
  },
  {
   "cell_type": "code",
   "execution_count": 84,
   "id": "196dde9e",
   "metadata": {},
   "outputs": [
    {
     "name": "stdout",
     "output_type": "stream",
     "text": [
      "root\n",
      " |-- id: string (nullable = true)\n",
      " |-- comment_text: string (nullable = true)\n",
      " |-- toxic: double (nullable = true)\n",
      " |-- severe_toxic: double (nullable = true)\n",
      " |-- obscene: double (nullable = true)\n",
      " |-- threat: double (nullable = true)\n",
      " |-- insult: double (nullable = true)\n",
      " |-- identity_hate: double (nullable = true)\n",
      "\n"
     ]
    }
   ],
   "source": [
    "df.printSchema()"
   ]
  },
  {
   "cell_type": "code",
   "execution_count": 85,
   "id": "65a01ea9",
   "metadata": {},
   "outputs": [
    {
     "name": "stdout",
     "output_type": "stream",
     "text": [
      "+----------------+--------------------+-----+------------+-------+------+------+-------------+\n",
      "|              id|        comment_text|toxic|severe_toxic|obscene|threat|insult|identity_hate|\n",
      "+----------------+--------------------+-----+------------+-------+------+------+-------------+\n",
      "|000103f0d9cfb60f|D'aww! He matches...|  0.0|         0.0|    0.0|   0.0|   0.0|          0.0|\n",
      "|000113f07ec002fd|Hey man, I'm real...|  0.0|         0.0|    0.0|   0.0|   0.0|          0.0|\n",
      "|0001d958c54c6e35|You, sir, are my ...|  0.0|         0.0|    0.0|   0.0|   0.0|          0.0|\n",
      "|0002bcb3da6cb337|COCKSUCKER BEFORE...|  1.0|         1.0|    1.0|   0.0|   1.0|          0.0|\n",
      "|00031b1e95af7921|Your vandalism to...|  0.0|         0.0|    0.0|   0.0|   0.0|          0.0|\n",
      "|00037261f536c51d|Sorry if the word...|  0.0|         0.0|    0.0|   0.0|   0.0|          0.0|\n",
      "|00040093b2687caa|alignment on this...|  0.0|         0.0|    0.0|   0.0|   0.0|          0.0|\n",
      "|00070ef96486d6f9|Oh, and the girl ...|  0.0|         0.0|    0.0|   0.0|   0.0|          0.0|\n",
      "|000897889268bc93|REDIRECT Talk:Voy...|  0.0|         0.0|    0.0|   0.0|   0.0|          0.0|\n",
      "|0009801bd85e5806|The Mitsurugi poi...|  0.0|         0.0|    0.0|   0.0|   0.0|          0.0|\n",
      "|000f35deef84dc4a|There's no need t...|  0.0|         0.0|    0.0|   0.0|   0.0|          0.0|\n",
      "|000ffab30195c5e1|Yes, because the ...|  0.0|         0.0|    0.0|   0.0|   0.0|          0.0|\n",
      "|0011cc71398479c4|How could I post ...|  0.0|         0.0|    0.0|   0.0|   0.0|          0.0|\n",
      "|00128363e367d703|Not sure about a ...|  0.0|         0.0|    0.0|   0.0|   0.0|          0.0|\n",
      "|0015f4aa35ebe9b5|pretty much every...|  0.0|         0.0|    0.0|   0.0|   0.0|          0.0|\n",
      "|00169857adbc989b|Hi Explicit, can ...|  0.0|         0.0|    0.0|   0.0|   0.0|          0.0|\n",
      "|00190820581d90ce|FUCK YOUR FILTHY ...|  1.0|         0.0|    1.0|   0.0|   1.0|          0.0|\n",
      "|001c419c445b5a59|You had a point, ...|  0.0|         0.0|    0.0|   0.0|   0.0|          0.0|\n",
      "|001c557175094f10|In other words, y...|  0.0|         0.0|    0.0|   0.0|   0.0|          0.0|\n",
      "|001dc38a83d420cf|GET FUCKED UP. GE...|  1.0|         0.0|    1.0|   0.0|   0.0|          0.0|\n",
      "+----------------+--------------------+-----+------------+-------+------+------+-------------+\n",
      "only showing top 20 rows\n",
      "\n"
     ]
    }
   ],
   "source": [
    "df.show()"
   ]
  },
  {
   "cell_type": "code",
   "execution_count": 86,
   "id": "71ea32f3",
   "metadata": {},
   "outputs": [],
   "source": [
    "(train_set, val_set) = df.randomSplit([0.8, 0.2], seed = 2000)"
   ]
  },
  {
   "cell_type": "code",
   "execution_count": 87,
   "id": "8efee26c",
   "metadata": {},
   "outputs": [],
   "source": [
    "train_y = train_set.drop('id').drop('comment_text')"
   ]
  },
  {
   "cell_type": "code",
   "execution_count": 88,
   "id": "65e17eb3",
   "metadata": {},
   "outputs": [
    {
     "name": "stdout",
     "output_type": "stream",
     "text": [
      "+-----+------------+-------+------+------+-------------+\n",
      "|toxic|severe_toxic|obscene|threat|insult|identity_hate|\n",
      "+-----+------------+-------+------+------+-------------+\n",
      "|  0.0|         0.0|    0.0|   0.0|   0.0|          0.0|\n",
      "|  0.0|         0.0|    0.0|   0.0|   0.0|          0.0|\n",
      "|  0.0|         0.0|    0.0|   0.0|   0.0|          0.0|\n",
      "|  1.0|         1.0|    1.0|   0.0|   1.0|          0.0|\n",
      "|  0.0|         0.0|    0.0|   0.0|   0.0|          0.0|\n",
      "|  0.0|         0.0|    0.0|   0.0|   0.0|          0.0|\n",
      "|  0.0|         0.0|    0.0|   0.0|   0.0|          0.0|\n",
      "|  0.0|         0.0|    0.0|   0.0|   0.0|          0.0|\n",
      "|  0.0|         0.0|    0.0|   0.0|   0.0|          0.0|\n",
      "|  0.0|         0.0|    0.0|   0.0|   0.0|          0.0|\n",
      "|  0.0|         0.0|    0.0|   0.0|   0.0|          0.0|\n",
      "|  0.0|         0.0|    0.0|   0.0|   0.0|          0.0|\n",
      "|  0.0|         0.0|    0.0|   0.0|   0.0|          0.0|\n",
      "|  1.0|         0.0|    1.0|   0.0|   1.0|          0.0|\n",
      "|  0.0|         0.0|    0.0|   0.0|   0.0|          0.0|\n",
      "|  0.0|         0.0|    0.0|   0.0|   0.0|          0.0|\n",
      "|  1.0|         0.0|    1.0|   0.0|   0.0|          0.0|\n",
      "|  0.0|         0.0|    0.0|   0.0|   0.0|          0.0|\n",
      "|  0.0|         0.0|    0.0|   0.0|   0.0|          0.0|\n",
      "|  1.0|         1.0|    1.0|   0.0|   1.0|          0.0|\n",
      "+-----+------------+-------+------+------+-------------+\n",
      "only showing top 20 rows\n",
      "\n"
     ]
    }
   ],
   "source": [
    "train_y.show()"
   ]
  },
  {
   "cell_type": "code",
   "execution_count": 89,
   "id": "bc2331bf",
   "metadata": {},
   "outputs": [],
   "source": [
    "train_x = train_set.select('id','comment_text')"
   ]
  },
  {
   "cell_type": "code",
   "execution_count": 90,
   "id": "5f94aba6",
   "metadata": {},
   "outputs": [
    {
     "name": "stdout",
     "output_type": "stream",
     "text": [
      "+----------------+--------------------+\n",
      "|              id|        comment_text|\n",
      "+----------------+--------------------+\n",
      "|000103f0d9cfb60f|D'aww! He matches...|\n",
      "|000113f07ec002fd|Hey man, I'm real...|\n",
      "|0001d958c54c6e35|You, sir, are my ...|\n",
      "|0002bcb3da6cb337|COCKSUCKER BEFORE...|\n",
      "|00031b1e95af7921|Your vandalism to...|\n",
      "|00037261f536c51d|Sorry if the word...|\n",
      "|00040093b2687caa|alignment on this...|\n",
      "|00070ef96486d6f9|Oh, and the girl ...|\n",
      "|000897889268bc93|REDIRECT Talk:Voy...|\n",
      "|0009801bd85e5806|The Mitsurugi poi...|\n",
      "|000f35deef84dc4a|There's no need t...|\n",
      "|000ffab30195c5e1|Yes, because the ...|\n",
      "|0015f4aa35ebe9b5|pretty much every...|\n",
      "|00190820581d90ce|FUCK YOUR FILTHY ...|\n",
      "|001c419c445b5a59|You had a point, ...|\n",
      "|001c557175094f10|In other words, y...|\n",
      "|001dc38a83d420cf|GET FUCKED UP. GE...|\n",
      "|001e89eb3f0b0915|Are you threateni...|\n",
      "|001ee16c46a99262|Thanks! Undeletio...|\n",
      "|0020e7119b96eeeb|Stupid peace of s...|\n",
      "+----------------+--------------------+\n",
      "only showing top 20 rows\n",
      "\n"
     ]
    }
   ],
   "source": [
    "train_x.show()"
   ]
  },
  {
   "cell_type": "code",
   "execution_count": 91,
   "id": "c1a6f213",
   "metadata": {},
   "outputs": [],
   "source": [
    "train_set = train_set.dropna()\n",
    "val_set = val_set.dropna()"
   ]
  },
  {
   "cell_type": "markdown",
   "id": "692b9736",
   "metadata": {},
   "source": [
    "HashingTF и IDF для логистической регрессии и SVM"
   ]
  },
  {
   "cell_type": "code",
   "execution_count": null,
   "id": "634a2f86",
   "metadata": {},
   "outputs": [
    {
     "name": "stdout",
     "output_type": "stream",
     "text": [
      "average logreg auc for 2048 features: 0.5402676269243784\n",
      "average svm auc for 2048 features: 0.5081478320025472\n",
      "average logreg auc for 2304 features: 0.5920918408354721\n",
      "average svm auc for 2304 features: 0.5330903811308944\n"
     ]
    }
   ],
   "source": [
    "for i in range(8,15):\n",
    "    tokenizer = Tokenizer(inputCol=\"comment_text\", outputCol=\"words\")\n",
    "    hashtf = HashingTF(numFeatures=2**i, inputCol=\"words\", outputCol='tf')\n",
    "    idf = IDF(inputCol='tf', outputCol=\"features\", minDocFreq=5)\n",
    "    auc_av_reg = 0\n",
    "    auc_av_svm = 0\n",
    "    for label in ['toxic', 'severe_toxic', 'obscene','threat','insult','identity_hate']:\n",
    "        log_reg=LogisticRegression(featuresCol='features', labelCol=label)\n",
    "        svm = LinearSVC(labelCol=label)\n",
    "        pipeline = Pipeline(stages=[tokenizer, hashtf, idf, log_reg])\n",
    "        pipeline2 = Pipeline(stages=[tokenizer, hashtf, idf, svm])\n",
    "    \n",
    "        pipelineFit_reg = pipeline.fit(train_set)\n",
    "        pipelineFit_svm = pipeline2.fit(train_set)\n",
    "        val_reg = pipelineFit_reg.transform(val_set)\n",
    "        val_svm = pipelineFit_svm.transform(val_set)\n",
    "        comment_eval = BinaryClassificationEvaluator(rawPredictionCol='prediction', labelCol=label)\n",
    "    \n",
    "        auc_av_reg += comment_eval.evaluate(val_reg) / 6\n",
    "        auc_av_svm += comment_eval.evaluate(val_svm) / 6\n",
    "    print('average logreg auc for', i*nFeatures, 'features:', auc_av_reg)\n",
    "    print('average svm auc for', i*nFeatures, 'features:', auc_av_svm)\n"
   ]
  },
  {
   "cell_type": "markdown",
   "id": "420d3bf5",
   "metadata": {},
   "source": [
    "Word2vec"
   ]
  },
  {
   "cell_type": "code",
   "execution_count": null,
   "id": "f7019d0d",
   "metadata": {},
   "outputs": [],
   "source": [
    "word2Vec = Word2Vec(vectorSize=5, seed=42, inputCol=\"sentence\", outputCol=\"model\")\n",
    "auc_av_reg = 0\n",
    "auc_av_svm = 0\n",
    "for label in ['toxic', 'severe_toxic', 'obscene','threat','insult','identity_hate']:\n",
    "    log_reg=LogisticRegression(featuresCol='model', labelCol=label)\n",
    "    svm = LinearSVC(labelCol=label)\n",
    "    pipeline = Pipeline(stages=[word2Vec])\n",
    "    pipeline2 = Pipeline(stages=[word2Vec])\n",
    "    \n",
    "    pipelineFit_reg = pipeline.fit(train_set)\n",
    "    pipelineFit_svm = pipeline2.fit(train_set)\n",
    "    val_reg = pipelineFit_reg.transform(val_set)\n",
    "    val_svm = pipelineFit_svm.transform(val_set)\n",
    "    comment_eval = BinaryClassificationEvaluator(rawPredictionCol='prediction', labelCol=label)\n",
    "    \n",
    "    auc_av_reg += comment_eval.evaluate(val_reg) / 6\n",
    "    auc_av_svm += comment_eval.evaluate(val_svm) / 6\n",
    "print('average logreg auc for', i*nFeatures, 'features:', auc_av_reg)\n",
    "print('average svm auc for', i*nFeatures, 'features:', auc_av_svm)"
   ]
  }
 ],
 "metadata": {
  "kernelspec": {
   "display_name": "Python 3 (ipykernel)",
   "language": "python",
   "name": "python3"
  },
  "language_info": {
   "codemirror_mode": {
    "name": "ipython",
    "version": 3
   },
   "file_extension": ".py",
   "mimetype": "text/x-python",
   "name": "python",
   "nbconvert_exporter": "python",
   "pygments_lexer": "ipython3",
   "version": "3.9.7"
  }
 },
 "nbformat": 4,
 "nbformat_minor": 5
}
